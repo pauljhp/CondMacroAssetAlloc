{
 "cells": [
  {
   "cell_type": "code",
   "execution_count": 1,
   "metadata": {},
   "outputs": [],
   "source": [
    "import sys\n",
    "sys.path.append(\"../\")"
   ]
  },
  {
   "cell_type": "code",
   "execution_count": 2,
   "metadata": {},
   "outputs": [
    {
     "name": "stdout",
     "output_type": "stream",
     "text": [
      "/bin/bash: /anaconda/envs/jupyter_env/lib/libtinfo.so.6: no version information available (required by /bin/bash)\n",
      "/home/azureuser/cloudfiles/code/users/p.peng/condmacroassetalloc/src/macroencoding\n"
     ]
    }
   ],
   "source": [
    "!pwd"
   ]
  },
  {
   "cell_type": "code",
   "execution_count": 6,
   "metadata": {},
   "outputs": [
    {
     "name": "stderr",
     "output_type": "stream",
     "text": [
      "/mnt/batch/tasks/shared/LS_root/mounts/clusters/nlp-gpu-t4/code/users/p.peng/condmacroassetalloc/src/macroencoding/utils/__init__.py:46: RuntimeWarning: divide by zero encountered in divide\n",
      "  res[offset:] = np.log(input[offset:] / input[:-offset])\n",
      "/mnt/batch/tasks/shared/LS_root/mounts/clusters/nlp-gpu-t4/code/users/p.peng/condmacroassetalloc/src/macroencoding/utils/__init__.py:46: RuntimeWarning: divide by zero encountered in log\n",
      "  res[offset:] = np.log(input[offset:] / input[:-offset])\n",
      "/mnt/batch/tasks/shared/LS_root/mounts/clusters/nlp-gpu-t4/code/users/p.peng/condmacroassetalloc/src/macroencoding/utils/__init__.py:46: RuntimeWarning: invalid value encountered in log\n",
      "  res[offset:] = np.log(input[offset:] / input[:-offset])\n",
      "/mnt/batch/tasks/shared/LS_root/mounts/clusters/nlp-gpu-t4/code/users/p.peng/condmacroassetalloc/src/macroencoding/utils/__init__.py:46: RuntimeWarning: invalid value encountered in log\n",
      "  res[offset:] = np.log(input[offset:] / input[:-offset])\n",
      "/mnt/batch/tasks/shared/LS_root/mounts/clusters/nlp-gpu-t4/code/users/p.peng/condmacroassetalloc/src/macroencoding/utils/__init__.py:46: RuntimeWarning: divide by zero encountered in divide\n",
      "  res[offset:] = np.log(input[offset:] / input[:-offset])\n",
      "/mnt/batch/tasks/shared/LS_root/mounts/clusters/nlp-gpu-t4/code/users/p.peng/condmacroassetalloc/src/macroencoding/utils/__init__.py:46: RuntimeWarning: invalid value encountered in divide\n",
      "  res[offset:] = np.log(input[offset:] / input[:-offset])\n",
      "/mnt/batch/tasks/shared/LS_root/mounts/clusters/nlp-gpu-t4/code/users/p.peng/condmacroassetalloc/src/macroencoding/utils/__init__.py:46: RuntimeWarning: divide by zero encountered in log\n",
      "  res[offset:] = np.log(input[offset:] / input[:-offset])\n",
      "/mnt/batch/tasks/shared/LS_root/mounts/clusters/nlp-gpu-t4/code/users/p.peng/condmacroassetalloc/src/macroencoding/utils/__init__.py:46: RuntimeWarning: invalid value encountered in log\n",
      "  res[offset:] = np.log(input[offset:] / input[:-offset])\n"
     ]
    }
   ],
   "source": [
    "# load trained model\n",
    "import torch.nn as nn\n",
    "import torch\n",
    "import numpy as np\n",
    "import datetime as dt\n",
    "import deepLearning\n",
    "from deepLearning.dataloader import AssetClassReturn\n",
    "from deepLearning.dataloader import MacroData\n",
    "from torch.utils.data import DataLoader\n",
    "import torch\n",
    "import pandas as pd\n",
    "import utils\n",
    "import numpy as np\n",
    "from typing import Any\n",
    "\n",
    "TODAY = dt.datetime.today().strftime(\"%Y-%m-%d\")\n",
    "na_thresh = 500\n",
    "macro_data = pd.read_pickle(\"../../data/macro/consolidated_macro_data.pkl\")\n",
    "macro_data = macro_data.dropna(thresh=na_thresh, axis=1).dropna(axis=0)\n",
    "macro_data = macro_data.T.drop_duplicates().T\n",
    "processor = utils.PreProcessor(macro_data, train_val_test_split=(0.67, 0.03, 0.30))\n",
    "\n",
    "return_model = torch.load(f\"../../checkpoints/returnmodel_2023-07-01_best_so_far.pt\")"
   ]
  },
  {
   "cell_type": "code",
   "execution_count": 8,
   "metadata": {},
   "outputs": [
    {
     "ename": "ValueError",
     "evalue": "Invalid input, x is constant",
     "output_type": "error",
     "traceback": [
      "\u001b[0;31m---------------------------------------------------------------------------\u001b[0m",
      "\u001b[0;31mValueError\u001b[0m                                Traceback (most recent call last)",
      "Cell \u001b[0;32mIn[8], line 45\u001b[0m\n\u001b[1;32m     35\u001b[0m         macro_paddings\u001b[39m.\u001b[39mappend(mac_p)\n\u001b[1;32m     36\u001b[0m     \u001b[39mreturn\u001b[39;00m (\n\u001b[1;32m     37\u001b[0m         idxs,\n\u001b[1;32m     38\u001b[0m         torch\u001b[39m.\u001b[39mtensor(np\u001b[39m.\u001b[39marray(price_series), dtype\u001b[39m=\u001b[39mdtype)\u001b[39m.\u001b[39mto(device),\n\u001b[0;32m   (...)\u001b[0m\n\u001b[1;32m     42\u001b[0m         torch\u001b[39m.\u001b[39mtensor(macro_paddings, dtype\u001b[39m=\u001b[39mtorch\u001b[39m.\u001b[39mbool)\u001b[39m.\u001b[39mto(device)\n\u001b[1;32m     43\u001b[0m     )\n\u001b[0;32m---> 45\u001b[0m acr \u001b[39m=\u001b[39m AssetClassReturn(\n\u001b[1;32m     46\u001b[0m     lookback_period\u001b[39m=\u001b[39;49mWINDOW_SIZE,\n\u001b[1;32m     47\u001b[0m     lookahead_period\u001b[39m=\u001b[39;49m\u001b[39m0\u001b[39;49m,  \u001b[39m# no need to look ahead when evaluating\u001b[39;49;00m\n\u001b[1;32m     48\u001b[0m     price_data\u001b[39m=\u001b[39;49masset_class_returns\u001b[39m.\u001b[39;49mdropna(), \n\u001b[1;32m     49\u001b[0m     macro_data\u001b[39m=\u001b[39;49mmacro_data,\n\u001b[1;32m     50\u001b[0m     macro_window_size\u001b[39m=\u001b[39;49mWINDOW_SIZE,\n\u001b[1;32m     51\u001b[0m     train_val_test_split\u001b[39m=\u001b[39;49m(\u001b[39m0.515\u001b[39;49m, \u001b[39m0.01\u001b[39;49m, \u001b[39m0.475\u001b[39;49m),\n\u001b[1;32m     52\u001b[0m     dtype\u001b[39m=\u001b[39;49mtorch\u001b[39m.\u001b[39;49mfloat32,\n\u001b[1;32m     53\u001b[0m     mode\u001b[39m=\u001b[39;49m\u001b[39m\"\u001b[39;49m\u001b[39mtest\u001b[39;49m\u001b[39m\"\u001b[39;49m,\n\u001b[1;32m     54\u001b[0m     ignore_return\u001b[39m=\u001b[39;49m\u001b[39mTrue\u001b[39;49;00m)\n\u001b[1;32m     56\u001b[0m acr_loader \u001b[39m=\u001b[39m DataLoader(acr, batch_size\u001b[39m=\u001b[39m\u001b[39m2\u001b[39m, shuffle\u001b[39m=\u001b[39m\u001b[39mFalse\u001b[39;00m, collate_fn\u001b[39m=\u001b[39mcollate_fn_return)\n",
      "File \u001b[0;32m/mnt/batch/tasks/shared/LS_root/mounts/clusters/nlp-gpu-t4/code/users/p.peng/condmacroassetalloc/src/macroencoding/deepLearning/dataloader.py:85\u001b[0m, in \u001b[0;36mAssetClassReturn.__init__\u001b[0;34m(self, lookahead_period, lookback_period, price_data, macro_window_size, macro_data, dtype, pad_val, macro_dims, train_val_test_split, freq, mode, ignore_return)\u001b[0m\n\u001b[1;32m     80\u001b[0m \u001b[39m\u001b[39m\u001b[39m\"\"\"\u001b[39;00m\n\u001b[1;32m     81\u001b[0m \u001b[39m:param lookahead_period: # of months ahead for calculating the return\u001b[39;00m\n\u001b[1;32m     82\u001b[0m \u001b[39m:param data: dataset passed to the loader\u001b[39;00m\n\u001b[1;32m     83\u001b[0m \u001b[39m\"\"\"\u001b[39;00m\n\u001b[1;32m     84\u001b[0m \u001b[39msuper\u001b[39m()\u001b[39m.\u001b[39m\u001b[39m__init__\u001b[39m()\n\u001b[0;32m---> 85\u001b[0m \u001b[39mself\u001b[39m\u001b[39m.\u001b[39m_price_data_obj \u001b[39m=\u001b[39m PreProcessor(price_data, train_val_test_split\u001b[39m=\u001b[39;49mtrain_val_test_split)\n\u001b[1;32m     86\u001b[0m \u001b[39mself\u001b[39m\u001b[39m.\u001b[39m_macro_data_obj \u001b[39m=\u001b[39m PreProcessor(macro_data, train_val_test_split\u001b[39m=\u001b[39mtrain_val_test_split)\n\u001b[1;32m     87\u001b[0m \u001b[39mself\u001b[39m\u001b[39m.\u001b[39m_price_data \u001b[39m=\u001b[39m \u001b[39meval\u001b[39m(\u001b[39mf\u001b[39m\u001b[39m\"\u001b[39m\u001b[39mself._price_data_obj._\u001b[39m\u001b[39m{\u001b[39;00mmode\u001b[39m}\u001b[39;00m\u001b[39m\"\u001b[39m) \u001b[39m# original price data\u001b[39;00m\n",
      "File \u001b[0;32m/mnt/batch/tasks/shared/LS_root/mounts/clusters/nlp-gpu-t4/code/users/p.peng/condmacroassetalloc/src/macroencoding/utils/__init__.py:98\u001b[0m, in \u001b[0;36mPreProcessor.__init__\u001b[0;34m(self, data, differencing_offset, train_val_test_split)\u001b[0m\n\u001b[1;32m     96\u001b[0m \u001b[39mself\u001b[39m\u001b[39m.\u001b[39mdata \u001b[39m=\u001b[39m \u001b[39mself\u001b[39m\u001b[39m.\u001b[39mdata\u001b[39m.\u001b[39mdropna()\n\u001b[1;32m     97\u001b[0m \u001b[39mself\u001b[39m\u001b[39m.\u001b[39mnormalizer \u001b[39m=\u001b[39m StandardScaler(with_mean\u001b[39m=\u001b[39m\u001b[39mTrue\u001b[39;00m, with_std\u001b[39m=\u001b[39m\u001b[39mTrue\u001b[39;00m)\n\u001b[0;32m---> 98\u001b[0m \u001b[39mself\u001b[39m\u001b[39m.\u001b[39mstationarity_mask \u001b[39m=\u001b[39m \u001b[39mself\u001b[39;49m\u001b[39m.\u001b[39;49mdata\u001b[39m.\u001b[39;49mapply(\u001b[39mlambda\u001b[39;49;00m x: stationarity_test(x), axis\u001b[39m=\u001b[39;49m\u001b[39m0\u001b[39;49m)\n\u001b[1;32m     99\u001b[0m \u001b[39mself\u001b[39m\u001b[39m.\u001b[39mdifferencing_offset \u001b[39m=\u001b[39m differencing_offset\n\u001b[1;32m    101\u001b[0m _train, _val, _test \u001b[39m=\u001b[39m \u001b[39mself\u001b[39m\u001b[39m.\u001b[39mtrain_val_test_split(split\u001b[39m=\u001b[39mtrain_val_test_split, data\u001b[39m=\u001b[39m\u001b[39mself\u001b[39m\u001b[39m.\u001b[39mdata)\n",
      "File \u001b[0;32m/anaconda/envs/condmacroalloc_env/lib/python3.11/site-packages/pandas/core/frame.py:9568\u001b[0m, in \u001b[0;36mDataFrame.apply\u001b[0;34m(self, func, axis, raw, result_type, args, **kwargs)\u001b[0m\n\u001b[1;32m   9557\u001b[0m \u001b[39mfrom\u001b[39;00m \u001b[39mpandas\u001b[39;00m\u001b[39m.\u001b[39;00m\u001b[39mcore\u001b[39;00m\u001b[39m.\u001b[39;00m\u001b[39mapply\u001b[39;00m \u001b[39mimport\u001b[39;00m frame_apply\n\u001b[1;32m   9559\u001b[0m op \u001b[39m=\u001b[39m frame_apply(\n\u001b[1;32m   9560\u001b[0m     \u001b[39mself\u001b[39m,\n\u001b[1;32m   9561\u001b[0m     func\u001b[39m=\u001b[39mfunc,\n\u001b[0;32m   (...)\u001b[0m\n\u001b[1;32m   9566\u001b[0m     kwargs\u001b[39m=\u001b[39mkwargs,\n\u001b[1;32m   9567\u001b[0m )\n\u001b[0;32m-> 9568\u001b[0m \u001b[39mreturn\u001b[39;00m op\u001b[39m.\u001b[39;49mapply()\u001b[39m.\u001b[39m__finalize__(\u001b[39mself\u001b[39m, method\u001b[39m=\u001b[39m\u001b[39m\"\u001b[39m\u001b[39mapply\u001b[39m\u001b[39m\"\u001b[39m)\n",
      "File \u001b[0;32m/anaconda/envs/condmacroalloc_env/lib/python3.11/site-packages/pandas/core/apply.py:764\u001b[0m, in \u001b[0;36mFrameApply.apply\u001b[0;34m(self)\u001b[0m\n\u001b[1;32m    761\u001b[0m \u001b[39melif\u001b[39;00m \u001b[39mself\u001b[39m\u001b[39m.\u001b[39mraw:\n\u001b[1;32m    762\u001b[0m     \u001b[39mreturn\u001b[39;00m \u001b[39mself\u001b[39m\u001b[39m.\u001b[39mapply_raw()\n\u001b[0;32m--> 764\u001b[0m \u001b[39mreturn\u001b[39;00m \u001b[39mself\u001b[39;49m\u001b[39m.\u001b[39;49mapply_standard()\n",
      "File \u001b[0;32m/anaconda/envs/condmacroalloc_env/lib/python3.11/site-packages/pandas/core/apply.py:891\u001b[0m, in \u001b[0;36mFrameApply.apply_standard\u001b[0;34m(self)\u001b[0m\n\u001b[1;32m    890\u001b[0m \u001b[39mdef\u001b[39;00m \u001b[39mapply_standard\u001b[39m(\u001b[39mself\u001b[39m):\n\u001b[0;32m--> 891\u001b[0m     results, res_index \u001b[39m=\u001b[39m \u001b[39mself\u001b[39;49m\u001b[39m.\u001b[39;49mapply_series_generator()\n\u001b[1;32m    893\u001b[0m     \u001b[39m# wrap results\u001b[39;00m\n\u001b[1;32m    894\u001b[0m     \u001b[39mreturn\u001b[39;00m \u001b[39mself\u001b[39m\u001b[39m.\u001b[39mwrap_results(results, res_index)\n",
      "File \u001b[0;32m/anaconda/envs/condmacroalloc_env/lib/python3.11/site-packages/pandas/core/apply.py:907\u001b[0m, in \u001b[0;36mFrameApply.apply_series_generator\u001b[0;34m(self)\u001b[0m\n\u001b[1;32m    904\u001b[0m \u001b[39mwith\u001b[39;00m option_context(\u001b[39m\"\u001b[39m\u001b[39mmode.chained_assignment\u001b[39m\u001b[39m\"\u001b[39m, \u001b[39mNone\u001b[39;00m):\n\u001b[1;32m    905\u001b[0m     \u001b[39mfor\u001b[39;00m i, v \u001b[39min\u001b[39;00m \u001b[39menumerate\u001b[39m(series_gen):\n\u001b[1;32m    906\u001b[0m         \u001b[39m# ignore SettingWithCopy here in case the user mutates\u001b[39;00m\n\u001b[0;32m--> 907\u001b[0m         results[i] \u001b[39m=\u001b[39m \u001b[39mself\u001b[39;49m\u001b[39m.\u001b[39;49mf(v)\n\u001b[1;32m    908\u001b[0m         \u001b[39mif\u001b[39;00m \u001b[39misinstance\u001b[39m(results[i], ABCSeries):\n\u001b[1;32m    909\u001b[0m             \u001b[39m# If we have a view on v, we need to make a copy because\u001b[39;00m\n\u001b[1;32m    910\u001b[0m             \u001b[39m#  series_generator will swap out the underlying data\u001b[39;00m\n\u001b[1;32m    911\u001b[0m             results[i] \u001b[39m=\u001b[39m results[i]\u001b[39m.\u001b[39mcopy(deep\u001b[39m=\u001b[39m\u001b[39mFalse\u001b[39;00m)\n",
      "File \u001b[0;32m/mnt/batch/tasks/shared/LS_root/mounts/clusters/nlp-gpu-t4/code/users/p.peng/condmacroassetalloc/src/macroencoding/utils/__init__.py:98\u001b[0m, in \u001b[0;36mPreProcessor.__init__.<locals>.<lambda>\u001b[0;34m(x)\u001b[0m\n\u001b[1;32m     96\u001b[0m \u001b[39mself\u001b[39m\u001b[39m.\u001b[39mdata \u001b[39m=\u001b[39m \u001b[39mself\u001b[39m\u001b[39m.\u001b[39mdata\u001b[39m.\u001b[39mdropna()\n\u001b[1;32m     97\u001b[0m \u001b[39mself\u001b[39m\u001b[39m.\u001b[39mnormalizer \u001b[39m=\u001b[39m StandardScaler(with_mean\u001b[39m=\u001b[39m\u001b[39mTrue\u001b[39;00m, with_std\u001b[39m=\u001b[39m\u001b[39mTrue\u001b[39;00m)\n\u001b[0;32m---> 98\u001b[0m \u001b[39mself\u001b[39m\u001b[39m.\u001b[39mstationarity_mask \u001b[39m=\u001b[39m \u001b[39mself\u001b[39m\u001b[39m.\u001b[39mdata\u001b[39m.\u001b[39mapply(\u001b[39mlambda\u001b[39;00m x: stationarity_test(x), axis\u001b[39m=\u001b[39m\u001b[39m0\u001b[39m)\n\u001b[1;32m     99\u001b[0m \u001b[39mself\u001b[39m\u001b[39m.\u001b[39mdifferencing_offset \u001b[39m=\u001b[39m differencing_offset\n\u001b[1;32m    101\u001b[0m _train, _val, _test \u001b[39m=\u001b[39m \u001b[39mself\u001b[39m\u001b[39m.\u001b[39mtrain_val_test_split(split\u001b[39m=\u001b[39mtrain_val_test_split, data\u001b[39m=\u001b[39m\u001b[39mself\u001b[39m\u001b[39m.\u001b[39mdata)\n",
      "File \u001b[0;32m/mnt/batch/tasks/shared/LS_root/mounts/clusters/nlp-gpu-t4/code/users/p.peng/condmacroassetalloc/src/macroencoding/utils/__init__.py:37\u001b[0m, in \u001b[0;36mstationarity_test\u001b[0;34m(sequence, test_mode, pvalue_threshold, verbose)\u001b[0m\n\u001b[1;32m     35\u001b[0m     \u001b[39mcase\u001b[39;00m\u001b[39m \u001b[39m\u001b[39m_\u001b[39;00m:\n\u001b[1;32m     36\u001b[0m         \u001b[39mraise\u001b[39;00m \u001b[39mValueError\u001b[39;00m(\u001b[39mf\u001b[39m\u001b[39m\"\u001b[39m\u001b[39mtest_mode \u001b[39m\u001b[39m{\u001b[39;00mtest_mode\u001b[39m}\u001b[39;00m\u001b[39m not supported\u001b[39m\u001b[39m\"\u001b[39m)\n\u001b[0;32m---> 37\u001b[0m res \u001b[39m=\u001b[39m test_fn(sequence)\n\u001b[1;32m     38\u001b[0m \u001b[39mif\u001b[39;00m verbose:\n\u001b[1;32m     39\u001b[0m     \u001b[39mprint\u001b[39m(\u001b[39mf\u001b[39m\u001b[39m\"\u001b[39m\u001b[39m{\u001b[39;00mtest_mode\u001b[39m}\u001b[39;00m\u001b[39m statistics:\u001b[39m\u001b[39m\\n\u001b[39;00m\u001b[39m{\u001b[39;00mres[\u001b[39m0\u001b[39m]\u001b[39m}\u001b[39;00m\u001b[39m;\u001b[39m\u001b[39m\\n\u001b[39;00m\u001b[39mp-value = \u001b[39m\u001b[39m{\u001b[39;00mres[\u001b[39m1\u001b[39m]\u001b[39m}\u001b[39;00m\u001b[39m;\u001b[39m\u001b[39m\\n\u001b[39;00m\u001b[39mcritical values: \u001b[39m\u001b[39m{\u001b[39;00mres[\u001b[39m2\u001b[39m]\u001b[39m}\u001b[39;00m\u001b[39m\"\u001b[39m)\n",
      "File \u001b[0;32m/mnt/batch/tasks/shared/LS_root/mounts/clusters/nlp-gpu-t4/code/users/p.peng/condmacroassetalloc/src/macroencoding/utils/__init__.py:32\u001b[0m, in \u001b[0;36mstationarity_test.<locals>.<lambda>\u001b[0;34m(x)\u001b[0m\n\u001b[1;32m     30\u001b[0m \u001b[39mmatch\u001b[39;00m test_mode:\n\u001b[1;32m     31\u001b[0m     \u001b[39mcase\u001b[39;00m \u001b[39m\"\u001b[39m\u001b[39mADF\u001b[39m\u001b[39m\"\u001b[39m \u001b[39m|\u001b[39m \u001b[39m\"\u001b[39m\u001b[39madf\u001b[39m\u001b[39m\"\u001b[39m:\n\u001b[0;32m---> 32\u001b[0m         test_fn \u001b[39m=\u001b[39m \u001b[39mlambda\u001b[39;00m x: adfuller(x)\n\u001b[1;32m     33\u001b[0m     \u001b[39mcase\u001b[39;00m \u001b[39m\"\u001b[39m\u001b[39mKPSS\u001b[39m\u001b[39m\"\u001b[39m \u001b[39m|\u001b[39m \u001b[39m\"\u001b[39m\u001b[39mkpss\u001b[39m\u001b[39m\"\u001b[39m:\n\u001b[1;32m     34\u001b[0m         test_fn \u001b[39m=\u001b[39m \u001b[39mlambda\u001b[39;00m x: kpss(x)\n",
      "File \u001b[0;32m/anaconda/envs/condmacroalloc_env/lib/python3.11/site-packages/statsmodels/tsa/stattools.py:273\u001b[0m, in \u001b[0;36madfuller\u001b[0;34m(x, maxlag, regression, autolag, store, regresults)\u001b[0m\n\u001b[1;32m    270\u001b[0m regresults \u001b[39m=\u001b[39m bool_like(regresults, \u001b[39m\"\u001b[39m\u001b[39mregresults\u001b[39m\u001b[39m\"\u001b[39m)\n\u001b[1;32m    272\u001b[0m \u001b[39mif\u001b[39;00m x\u001b[39m.\u001b[39mmax() \u001b[39m==\u001b[39m x\u001b[39m.\u001b[39mmin():\n\u001b[0;32m--> 273\u001b[0m     \u001b[39mraise\u001b[39;00m \u001b[39mValueError\u001b[39;00m(\u001b[39m\"\u001b[39m\u001b[39mInvalid input, x is constant\u001b[39m\u001b[39m\"\u001b[39m)\n\u001b[1;32m    275\u001b[0m \u001b[39mif\u001b[39;00m regresults:\n\u001b[1;32m    276\u001b[0m     store \u001b[39m=\u001b[39m \u001b[39mTrue\u001b[39;00m\n",
      "\u001b[0;31mValueError\u001b[0m: Invalid input, x is constant"
     ]
    }
   ],
   "source": [
    "# load dataset\n",
    "WINDOW_SIZE = 96\n",
    "from deepLearning.dataloader import AssetClassReturn\n",
    "from deepLearning.models.returnPrediction import ReturnPrediction\n",
    "\n",
    "WINDOW_SIZE = 96\n",
    "BATCH_SIZE = 128\n",
    "return_model = ReturnPrediction(\n",
    "    window_size=WINDOW_SIZE,\n",
    "    autoencoder_ckpt_path=f\"../../checkpoints/autoencoder_2023-07-01_best_so_far.pt\",\n",
    "    num_transformer_layers=5, \n",
    "    nhead=1, \n",
    "    # num_linear_layers=5,\n",
    "    dim=7,\n",
    "    ae_nhead=10,\n",
    "    ae_dim=60,\n",
    "    ae_num_transformer_layers=10,\n",
    "    ae_encoding_dims=10)\n",
    "return_model = return_model.eval()\n",
    "\n",
    "\n",
    "asset_class_returns = pd.read_csv(\"../../data/asset_class_returns.csv\", header=[0], index_col=[0])\n",
    "DEVICE = torch.device(\"cuda\") if torch.cuda.is_available() else torch.device(\"cpu\")\n",
    "DTYPE = torch.float32\n",
    "\n",
    "def collate_fn_return(input, device=DEVICE, dtype=DTYPE):\n",
    "    \"\"\"collate inputs batch first\"\"\"\n",
    "    idxs, price_series, price_pad, return_series, macro_series, macro_paddings = [], [], [], [], [], []\n",
    "    for idx, (price_sq, px_pd, ret, mac, mac_p) in enumerate(input):\n",
    "        idxs.append(idx)\n",
    "        price_series.append(price_sq)\n",
    "        price_pad.append(px_pd)\n",
    "        return_series.append(ret)\n",
    "        macro_series.append(mac)\n",
    "        macro_paddings.append(mac_p)\n",
    "    return (\n",
    "        idxs,\n",
    "        torch.tensor(np.array(price_series), dtype=dtype).to(device),\n",
    "        torch.tensor(np.array(price_pad), dtype=torch.bool).to(device),\n",
    "        torch.tensor(np.array(return_series), dtype=torch.float).to(device),\n",
    "        torch.tensor(macro_series, dtype=dtype).to(device),\n",
    "        torch.tensor(macro_paddings, dtype=torch.bool).to(device)\n",
    "    )\n",
    "\n",
    "acr = AssetClassReturn(\n",
    "    lookback_period=WINDOW_SIZE,\n",
    "    lookahead_period=0,  # no need to look ahead when evaluating\n",
    "    price_data=asset_class_returns.dropna(), \n",
    "    macro_data=macro_data,\n",
    "    macro_window_size=WINDOW_SIZE,\n",
    "    train_val_test_split=(0.515, 0.01, 0.475),\n",
    "    dtype=torch.float32,\n",
    "    mode=\"test\",\n",
    "    ignore_return=True)\n",
    "\n",
    "acr_loader = DataLoader(acr, batch_size=2, shuffle=False, collate_fn=collate_fn_return)"
   ]
  },
  {
   "cell_type": "code",
   "execution_count": 9,
   "metadata": {},
   "outputs": [],
   "source": [
    "return_model = return_model.eval()\n",
    "default_starting_price = np.array([1.] * 7)\n",
    "RNG = np.random.default_rng(seed=1234)\n",
    "\n",
    "\n",
    "def _restore_difference_sequence(df: pd.DataFrame):\n",
    "    df_ = df.apply(\n",
    "        lambda row: row * acr._price_data_obj.var_ ** 0.5 + acr._price_data_obj.mean_, \n",
    "        axis=1)\n",
    "    df_.loc[0, :] = 1.\n",
    "    return df_\n",
    "\n",
    "\n",
    "def _restore_price_sequence(\n",
    "        df: pd.DataFrame, \n",
    "        cash_col: Any=6,\n",
    "        starting_price: np.array=default_starting_price):\n",
    "    last_period = starting_price\n",
    "    df_ = df.copy(deep=True)\n",
    "    rand_var = (RNG.random(size=len(df), ) - .5 ) / 1e10 # random\n",
    "    for i, (indx, row ) in enumerate(df_.iterrows()):\n",
    "        if i != 0:\n",
    "            last_period *= (1 + row.values)\n",
    "        df_.loc[indx] = last_period\n",
    "    df_[cash_col] += rand_var # need cash_col to have slight variance to avoid inf\n",
    "    return df_\n",
    "\n",
    "def restore_price_sequence(acr_idx: int):\n",
    "    df = pd.DataFrame(acr[acr_idx][0])\n",
    "    df_ = _restore_difference_sequence(df)\n",
    "    df_ = _restore_price_sequence(df_)\n",
    "    return df_"
   ]
  },
  {
   "cell_type": "code",
   "execution_count": 10,
   "metadata": {},
   "outputs": [
    {
     "ename": "NameError",
     "evalue": "name 'acr' is not defined",
     "output_type": "error",
     "traceback": [
      "\u001b[0;31m---------------------------------------------------------------------------\u001b[0m",
      "\u001b[0;31mNameError\u001b[0m                                 Traceback (most recent call last)",
      "Cell \u001b[0;32mIn[10], line 1\u001b[0m\n\u001b[0;32m----> 1\u001b[0m restore_price_sequence(\u001b[39m0\u001b[39;49m)[\u001b[39m0\u001b[39m]\u001b[39m.\u001b[39mplot()\n",
      "Cell \u001b[0;32mIn[9], line 29\u001b[0m, in \u001b[0;36mrestore_price_sequence\u001b[0;34m(acr_idx)\u001b[0m\n\u001b[1;32m     28\u001b[0m \u001b[39mdef\u001b[39;00m \u001b[39mrestore_price_sequence\u001b[39m(acr_idx: \u001b[39mint\u001b[39m):\n\u001b[0;32m---> 29\u001b[0m     df \u001b[39m=\u001b[39m pd\u001b[39m.\u001b[39mDataFrame(acr[acr_idx][\u001b[39m0\u001b[39m])\n\u001b[1;32m     30\u001b[0m     df_ \u001b[39m=\u001b[39m _restore_difference_sequence(df)\n\u001b[1;32m     31\u001b[0m     df_ \u001b[39m=\u001b[39m _restore_price_sequence(df_)\n",
      "\u001b[0;31mNameError\u001b[0m: name 'acr' is not defined"
     ]
    }
   ],
   "source": [
    "restore_price_sequence(0)[0].plot()"
   ]
  },
  {
   "cell_type": "code",
   "execution_count": 48,
   "metadata": {},
   "outputs": [],
   "source": [
    "# black litterman allocation\n",
    "from pypfopt import black_litterman, risk_models\n",
    "from typing import Tuple\n",
    "\n",
    "mcaps = [1/7] * 7 # equal weight by default\n",
    "\n",
    "def get_cov_mat(idx):\n",
    "    price_series = restore_price_sequence(idx)\n",
    "    return price_series.corr()\n",
    "\n",
    "\n",
    "def get_delta(idx: int, fillinf: float=1e1, fillna: float=1e-5) -> np.array:\n",
    "    price_series = restore_price_sequence(idx)\n",
    "    delta = black_litterman.market_implied_risk_aversion(price_series).replace(float(\"inf\"), fillinf).replace(float(\"-inf\"), fillinf).fillna(fillna)\n",
    "    return delta\n",
    "\n",
    "def get_prior(idx: int):\n",
    "    price_series = restore_price_sequence(idx)\n",
    "    delta = get_delta(idx)\n",
    "    cov_mat = price_series.corr()\n",
    "    prior = black_litterman.market_implied_prior_returns(mcaps, delta, cov_mat)\n",
    "    return prior\n",
    "\n",
    "def get_view(idx: int) -> np.array:\n",
    "    price_series, _, macro_series, _ = acr[idx]\n",
    "    price_series = torch.tensor(price_series, dtype=DTYPE).unsqueeze(0)\n",
    "    macro_series = torch.tensor(macro_series, dtype=DTYPE).unsqueeze(0)\n",
    "    # indx, price_series, price_padding, returns, macro_series, macro_padding = list(acr_loader)[idx]\n",
    "    # return macro_series\n",
    "    predictions = return_model(price_series, macro_series, None, None)\n",
    "    return predictions\n",
    "\n",
    "def get_weights(idx: int):\n",
    "    predictions = get_view(idx)[0].detach().numpy()\n",
    "    # view = dict(zip(asset_class_returns.columns, predictions))\n",
    "    cov_mat = get_cov_mat(idx)\n",
    "    prior = get_prior(idx)\n",
    "    if prior.isna().sum() > 0:\n",
    "        bl = black_litterman.BlackLittermanModel(\n",
    "        cov_matrix=cov_mat, absolute_views=pd.Series(predictions))\n",
    "    else:\n",
    "        bl = black_litterman.BlackLittermanModel(\n",
    "            cov_matrix=cov_mat, absolute_views=pd.Series(predictions), pi=prior)\n",
    "    delta = get_delta(idx)\n",
    "    bl.bl_weights(delta.values)\n",
    "    weights = bl.clean_weights(cutoff=0.)\n",
    "    weights = [v for _, v in weights.items()]\n",
    "    weights = [v + (0- min(weights)) for v in weights]\n",
    "    weights /= sum(weights)\n",
    "    return weights\n",
    "    "
   ]
  },
  {
   "cell_type": "code",
   "execution_count": 50,
   "metadata": {},
   "outputs": [
    {
     "name": "stdout",
     "output_type": "stream",
     "text": [
      "Singular matrix\n",
      "Singular matrix\n",
      "Singular matrix\n",
      "Singular matrix\n",
      "Singular matrix\n",
      "Singular matrix\n",
      "Singular matrix\n",
      "Singular matrix\n",
      "Singular matrix\n",
      "Singular matrix\n",
      "Singular matrix\n",
      "Singular matrix\n",
      "Singular matrix\n",
      "Singular matrix\n",
      "Singular matrix\n",
      "Singular matrix\n",
      "Singular matrix\n",
      "Singular matrix\n",
      "Singular matrix\n",
      "Singular matrix\n",
      "Singular matrix\n",
      "Singular matrix\n",
      "Singular matrix\n",
      "Singular matrix\n",
      "Singular matrix\n",
      "Singular matrix\n",
      "Singular matrix\n",
      "Singular matrix\n",
      "Singular matrix\n",
      "Singular matrix\n",
      "Singular matrix\n",
      "Singular matrix\n",
      "Singular matrix\n",
      "Singular matrix\n",
      "Singular matrix\n"
     ]
    },
    {
     "name": "stderr",
     "output_type": "stream",
     "text": [
      "/usr/local/anaconda3/envs/macroalloc_env/lib/python3.10/site-packages/pypfopt/black_litterman.py:259: UserWarning: Running Black-Litterman with no prior.\n",
      "  warnings.warn(\"Running Black-Litterman with no prior.\")\n",
      "/usr/local/anaconda3/envs/macroalloc_env/lib/python3.10/site-packages/pypfopt/black_litterman.py:259: UserWarning: Running Black-Litterman with no prior.\n",
      "  warnings.warn(\"Running Black-Litterman with no prior.\")\n",
      "/usr/local/anaconda3/envs/macroalloc_env/lib/python3.10/site-packages/pypfopt/black_litterman.py:259: UserWarning: Running Black-Litterman with no prior.\n",
      "  warnings.warn(\"Running Black-Litterman with no prior.\")\n",
      "/usr/local/anaconda3/envs/macroalloc_env/lib/python3.10/site-packages/pypfopt/black_litterman.py:259: UserWarning: Running Black-Litterman with no prior.\n",
      "  warnings.warn(\"Running Black-Litterman with no prior.\")\n",
      "/usr/local/anaconda3/envs/macroalloc_env/lib/python3.10/site-packages/pypfopt/black_litterman.py:259: UserWarning: Running Black-Litterman with no prior.\n",
      "  warnings.warn(\"Running Black-Litterman with no prior.\")\n",
      "/usr/local/anaconda3/envs/macroalloc_env/lib/python3.10/site-packages/pypfopt/black_litterman.py:259: UserWarning: Running Black-Litterman with no prior.\n",
      "  warnings.warn(\"Running Black-Litterman with no prior.\")\n",
      "/usr/local/anaconda3/envs/macroalloc_env/lib/python3.10/site-packages/pypfopt/black_litterman.py:259: UserWarning: Running Black-Litterman with no prior.\n",
      "  warnings.warn(\"Running Black-Litterman with no prior.\")\n",
      "/usr/local/anaconda3/envs/macroalloc_env/lib/python3.10/site-packages/pypfopt/black_litterman.py:259: UserWarning: Running Black-Litterman with no prior.\n",
      "  warnings.warn(\"Running Black-Litterman with no prior.\")\n",
      "/usr/local/anaconda3/envs/macroalloc_env/lib/python3.10/site-packages/pypfopt/black_litterman.py:259: UserWarning: Running Black-Litterman with no prior.\n",
      "  warnings.warn(\"Running Black-Litterman with no prior.\")\n",
      "/usr/local/anaconda3/envs/macroalloc_env/lib/python3.10/site-packages/pypfopt/black_litterman.py:259: UserWarning: Running Black-Litterman with no prior.\n",
      "  warnings.warn(\"Running Black-Litterman with no prior.\")\n",
      "/usr/local/anaconda3/envs/macroalloc_env/lib/python3.10/site-packages/pypfopt/black_litterman.py:259: UserWarning: Running Black-Litterman with no prior.\n",
      "  warnings.warn(\"Running Black-Litterman with no prior.\")\n",
      "/usr/local/anaconda3/envs/macroalloc_env/lib/python3.10/site-packages/pypfopt/black_litterman.py:259: UserWarning: Running Black-Litterman with no prior.\n",
      "  warnings.warn(\"Running Black-Litterman with no prior.\")\n",
      "/usr/local/anaconda3/envs/macroalloc_env/lib/python3.10/site-packages/pypfopt/black_litterman.py:259: UserWarning: Running Black-Litterman with no prior.\n",
      "  warnings.warn(\"Running Black-Litterman with no prior.\")\n",
      "/usr/local/anaconda3/envs/macroalloc_env/lib/python3.10/site-packages/pypfopt/black_litterman.py:259: UserWarning: Running Black-Litterman with no prior.\n",
      "  warnings.warn(\"Running Black-Litterman with no prior.\")\n",
      "/usr/local/anaconda3/envs/macroalloc_env/lib/python3.10/site-packages/pypfopt/black_litterman.py:259: UserWarning: Running Black-Litterman with no prior.\n",
      "  warnings.warn(\"Running Black-Litterman with no prior.\")\n",
      "/usr/local/anaconda3/envs/macroalloc_env/lib/python3.10/site-packages/pypfopt/black_litterman.py:259: UserWarning: Running Black-Litterman with no prior.\n",
      "  warnings.warn(\"Running Black-Litterman with no prior.\")\n",
      "/usr/local/anaconda3/envs/macroalloc_env/lib/python3.10/site-packages/pypfopt/black_litterman.py:259: UserWarning: Running Black-Litterman with no prior.\n",
      "  warnings.warn(\"Running Black-Litterman with no prior.\")\n",
      "/usr/local/anaconda3/envs/macroalloc_env/lib/python3.10/site-packages/pypfopt/black_litterman.py:259: UserWarning: Running Black-Litterman with no prior.\n",
      "  warnings.warn(\"Running Black-Litterman with no prior.\")\n",
      "/usr/local/anaconda3/envs/macroalloc_env/lib/python3.10/site-packages/pypfopt/black_litterman.py:259: UserWarning: Running Black-Litterman with no prior.\n",
      "  warnings.warn(\"Running Black-Litterman with no prior.\")\n",
      "/usr/local/anaconda3/envs/macroalloc_env/lib/python3.10/site-packages/pypfopt/black_litterman.py:259: UserWarning: Running Black-Litterman with no prior.\n",
      "  warnings.warn(\"Running Black-Litterman with no prior.\")\n",
      "/usr/local/anaconda3/envs/macroalloc_env/lib/python3.10/site-packages/pypfopt/black_litterman.py:259: UserWarning: Running Black-Litterman with no prior.\n",
      "  warnings.warn(\"Running Black-Litterman with no prior.\")\n",
      "/usr/local/anaconda3/envs/macroalloc_env/lib/python3.10/site-packages/pypfopt/black_litterman.py:259: UserWarning: Running Black-Litterman with no prior.\n",
      "  warnings.warn(\"Running Black-Litterman with no prior.\")\n",
      "/usr/local/anaconda3/envs/macroalloc_env/lib/python3.10/site-packages/pypfopt/black_litterman.py:259: UserWarning: Running Black-Litterman with no prior.\n",
      "  warnings.warn(\"Running Black-Litterman with no prior.\")\n",
      "/usr/local/anaconda3/envs/macroalloc_env/lib/python3.10/site-packages/pypfopt/black_litterman.py:259: UserWarning: Running Black-Litterman with no prior.\n",
      "  warnings.warn(\"Running Black-Litterman with no prior.\")\n",
      "/usr/local/anaconda3/envs/macroalloc_env/lib/python3.10/site-packages/pypfopt/black_litterman.py:259: UserWarning: Running Black-Litterman with no prior.\n",
      "  warnings.warn(\"Running Black-Litterman with no prior.\")\n",
      "/usr/local/anaconda3/envs/macroalloc_env/lib/python3.10/site-packages/pypfopt/black_litterman.py:259: UserWarning: Running Black-Litterman with no prior.\n",
      "  warnings.warn(\"Running Black-Litterman with no prior.\")\n",
      "/usr/local/anaconda3/envs/macroalloc_env/lib/python3.10/site-packages/pypfopt/black_litterman.py:259: UserWarning: Running Black-Litterman with no prior.\n",
      "  warnings.warn(\"Running Black-Litterman with no prior.\")\n",
      "/usr/local/anaconda3/envs/macroalloc_env/lib/python3.10/site-packages/pypfopt/black_litterman.py:259: UserWarning: Running Black-Litterman with no prior.\n",
      "  warnings.warn(\"Running Black-Litterman with no prior.\")\n"
     ]
    }
   ],
   "source": [
    "weights = []\n",
    "for i in range(len(acr)):\n",
    "    try:\n",
    "        w = get_weights(i)\n",
    "        weights.append(w)\n",
    "    except Exception as e:\n",
    "        print(e)\n",
    "        weights.append(np.array([1.] + [0.] * 6)) # all SPX if no view \n",
    "        pass\n",
    "        "
   ]
  },
  {
   "cell_type": "code",
   "execution_count": 51,
   "metadata": {},
   "outputs": [],
   "source": [
    "restored_test_price = _restore_difference_sequence(acr.price_data_)\n",
    "restored_test_price.iloc[0] = 1."
   ]
  },
  {
   "cell_type": "code",
   "execution_count": 52,
   "metadata": {},
   "outputs": [],
   "source": [
    "restored_price = _restore_price_sequence(restored_test_price, cash_col=\"Cash\")"
   ]
  },
  {
   "cell_type": "code",
   "execution_count": 53,
   "metadata": {},
   "outputs": [],
   "source": [
    "def cal_returns():\n",
    "    worth = 100\n",
    "    worths = []\n",
    "    for idx, weight in enumerate(weights):\n",
    "        worth_ = worth * weight\n",
    "        worth_ = worth_ * restored_price.iloc[idx+WINDOW_SIZE] / restored_price.iloc[idx+WINDOW_SIZE -1]\n",
    "\n",
    "        worth = sum(worth_)\n",
    "        worths.append(worth)\n",
    "    return worths, worth"
   ]
  },
  {
   "cell_type": "code",
   "execution_count": 54,
   "metadata": {},
   "outputs": [],
   "source": [
    "restored_price /= restored_price.iloc[0]"
   ]
  },
  {
   "cell_type": "code",
   "execution_count": 55,
   "metadata": {},
   "outputs": [],
   "source": [
    "worths, worth = cal_returns()"
   ]
  },
  {
   "cell_type": "code",
   "execution_count": 57,
   "metadata": {},
   "outputs": [
    {
     "data": {
      "text/plain": [
       "1.3859005003244553"
      ]
     },
     "execution_count": 57,
     "metadata": {},
     "output_type": "execute_result"
    }
   ],
   "source": [
    "(restored_price.iloc[64-164] / restored_price.iloc[-164]).mean()"
   ]
  },
  {
   "cell_type": "code",
   "execution_count": 58,
   "metadata": {},
   "outputs": [
    {
     "data": {
      "text/plain": [
       "[10.115569928694581,\n",
       " 9.070420311381096,\n",
       " 8.172975511816665,\n",
       " 7.575765710594965,\n",
       " 7.003894092528357,\n",
       " 6.4774299541617735,\n",
       " 5.985638327559904,\n",
       " 5.400457858571337,\n",
       " 5.102414997584426,\n",
       " 4.833582313120996,\n",
       " 4.565157765205085,\n",
       " 4.331137348273589,\n",
       " 4.051864870829527,\n",
       " 3.8358358911796726,\n",
       " 3.6324567279095588,\n",
       " 3.4757891316329363,\n",
       " 3.29405070654437,\n",
       " 3.1553114670808347,\n",
       " 2.998748820110603,\n",
       " 2.847622195438679,\n",
       " 2.7043396854826036,\n",
       " 2.625714579826013,\n",
       " 2.5324737439690352,\n",
       " 2.4395828847575136,\n",
       " 2.352593941769445,\n",
       " 2.2712057277551865,\n",
       " 2.206046562517782,\n",
       " 2.1365706042222383,\n",
       " 2.092121909070895,\n",
       " 2.029826727864223,\n",
       " 1.975968706913764,\n",
       " 1.9027708084897617,\n",
       " 1.8555219637093856,\n",
       " 1.7916707678380162,\n",
       " 1.7488084202736607,\n",
       " 1.6825639714559122,\n",
       " 1.6354003395105887,\n",
       " 1.5930098403596542,\n",
       " 1.5372790793338025,\n",
       " 1.5004385511761145,\n",
       " 1.4727738898065041,\n",
       " 1.425637924767548,\n",
       " 1.3965955479155023,\n",
       " 1.3652465029011789,\n",
       " 1.3337044252798735,\n",
       " 1.2945575278839043,\n",
       " 1.2632209951512512,\n",
       " 1.2333232724566816,\n",
       " 1.217749404686392,\n",
       " 1.1841802651083317,\n",
       " 1.1595591312881588,\n",
       " 1.1459352525329933,\n",
       " 1.1510305740013895,\n",
       " 1.134592666561907,\n",
       " 1.1221756054424046,\n",
       " 1.096419503793784,\n",
       " 1.0881370974032145,\n",
       " 1.073347977952941,\n",
       " 1.0530090856596552,\n",
       " 1.0372492808791196,\n",
       " 1.0160730487966032,\n",
       " 0.9991653118430255,\n",
       " 0.9868519095419488,\n",
       " 0.9747448823026423,\n",
       " 0.9650588403583602,\n",
       " 0.9509155552679172,\n",
       " 0.9395923521540746,\n",
       " 0.9270159558463176,\n",
       " 0.9124247638356526,\n",
       " 0.9030602416724196,\n",
       " 0.8921624754236859,\n",
       " 0.8812930876326335,\n",
       " 0.8692716408160746,\n",
       " 0.8580933528813957,\n",
       " 0.848586152488886,\n",
       " 0.8414644951664905,\n",
       " 0.8267198742416628,\n",
       " 0.8158510886940216,\n",
       " 0.8058379059824279,\n",
       " 0.7951822637046018,\n",
       " 0.7861037650801508,\n",
       " 0.7833379245278083,\n",
       " 0.7795406929970112,\n",
       " 0.7708299611542271,\n",
       " 0.7469352999923877,\n",
       " 0.7413780072433427,\n",
       " 0.7135926360712499,\n",
       " 0.7188113932812992,\n",
       " 0.7158193267442146,\n",
       " 0.7108373995654695,\n",
       " 0.7095928818990902,\n",
       " 0.6891731739920095,\n",
       " 0.6928194443777689,\n",
       " 0.6874616436353165,\n",
       " 0.6768507265138817,\n",
       " 0.6724288883837288,\n",
       " 0.6686146842652132,\n",
       " 0.6670046362524349,\n",
       " 0.6645818171627087,\n",
       " 0.657436209575323,\n",
       " 0.6360711134984447,\n",
       " 0.6073463513989252,\n",
       " 0.6186006792513417,\n",
       " 0.6190907231554059,\n",
       " 0.6157399404702444,\n",
       " 0.61758444304235,\n",
       " 0.6213885199009104,\n",
       " 0.6093857171104258,\n",
       " 0.5994513147201712,\n",
       " 0.6078608982051132,\n",
       " 0.607317445243019,\n",
       " 0.6000745226908062,\n",
       " 0.5981358329565327,\n",
       " nan,\n",
       " nan,\n",
       " nan,\n",
       " nan,\n",
       " nan,\n",
       " nan,\n",
       " nan,\n",
       " nan,\n",
       " nan,\n",
       " nan,\n",
       " nan,\n",
       " nan,\n",
       " nan,\n",
       " nan,\n",
       " nan,\n",
       " nan,\n",
       " nan,\n",
       " nan,\n",
       " nan,\n",
       " nan,\n",
       " nan,\n",
       " nan,\n",
       " nan,\n",
       " nan,\n",
       " nan,\n",
       " nan,\n",
       " nan]"
      ]
     },
     "execution_count": 58,
     "metadata": {},
     "output_type": "execute_result"
    }
   ],
   "source": [
    "[ret ** (12 / i) - 1 for i, ret in enumerate(worths) if i >=24]"
   ]
  },
  {
   "cell_type": "code",
   "execution_count": 59,
   "metadata": {},
   "outputs": [
    {
     "data": {
      "text/plain": [
       "1.4829842483769404e+25"
      ]
     },
     "execution_count": 59,
     "metadata": {},
     "output_type": "execute_result"
    }
   ],
   "source": [
    "pd.Series([ret ** (i/12) - 1 for i, ret in enumerate(worths) if i >=12]).std()"
   ]
  },
  {
   "cell_type": "code",
   "execution_count": 60,
   "metadata": {},
   "outputs": [
    {
     "data": {
      "text/html": [
       "<div>\n",
       "<style scoped>\n",
       "    .dataframe tbody tr th:only-of-type {\n",
       "        vertical-align: middle;\n",
       "    }\n",
       "\n",
       "    .dataframe tbody tr th {\n",
       "        vertical-align: top;\n",
       "    }\n",
       "\n",
       "    .dataframe thead th {\n",
       "        text-align: right;\n",
       "    }\n",
       "</style>\n",
       "<table border=\"1\" class=\"dataframe\">\n",
       "  <thead>\n",
       "    <tr style=\"text-align: right;\">\n",
       "      <th></th>\n",
       "      <th>SPX</th>\n",
       "      <th>NASDAQComp</th>\n",
       "      <th>GOLD</th>\n",
       "      <th>Property</th>\n",
       "      <th>Commodities</th>\n",
       "      <th>CorpBonds</th>\n",
       "      <th>Cash</th>\n",
       "    </tr>\n",
       "  </thead>\n",
       "  <tbody>\n",
       "    <tr>\n",
       "      <th>2001-10-31</th>\n",
       "      <td>1.000000</td>\n",
       "      <td>1.000000</td>\n",
       "      <td>1.000000</td>\n",
       "      <td>1.000000</td>\n",
       "      <td>1.000000</td>\n",
       "      <td>1.000000</td>\n",
       "      <td>1.0</td>\n",
       "    </tr>\n",
       "    <tr>\n",
       "      <th>2001-11-30</th>\n",
       "      <td>1.072484</td>\n",
       "      <td>1.132974</td>\n",
       "      <td>0.981048</td>\n",
       "      <td>1.000000</td>\n",
       "      <td>1.007696</td>\n",
       "      <td>0.991513</td>\n",
       "      <td>1.0</td>\n",
       "    </tr>\n",
       "    <tr>\n",
       "      <th>2001-12-31</th>\n",
       "      <td>1.080577</td>\n",
       "      <td>1.144546</td>\n",
       "      <td>0.997182</td>\n",
       "      <td>1.006676</td>\n",
       "      <td>0.987647</td>\n",
       "      <td>0.984313</td>\n",
       "      <td>1.0</td>\n",
       "    </tr>\n",
       "    <tr>\n",
       "      <th>2002-01-31</th>\n",
       "      <td>1.063625</td>\n",
       "      <td>1.134899</td>\n",
       "      <td>1.009969</td>\n",
       "      <td>1.006676</td>\n",
       "      <td>0.980982</td>\n",
       "      <td>0.992630</td>\n",
       "      <td>1.0</td>\n",
       "    </tr>\n",
       "    <tr>\n",
       "      <th>2002-02-28</th>\n",
       "      <td>1.041296</td>\n",
       "      <td>1.009352</td>\n",
       "      <td>1.058811</td>\n",
       "      <td>1.006676</td>\n",
       "      <td>1.006079</td>\n",
       "      <td>0.999160</td>\n",
       "      <td>1.0</td>\n",
       "    </tr>\n",
       "    <tr>\n",
       "      <th>...</th>\n",
       "      <td>...</td>\n",
       "      <td>...</td>\n",
       "      <td>...</td>\n",
       "      <td>...</td>\n",
       "      <td>...</td>\n",
       "      <td>...</td>\n",
       "      <td>...</td>\n",
       "    </tr>\n",
       "    <tr>\n",
       "      <th>2023-02-28</th>\n",
       "      <td>2.896406</td>\n",
       "      <td>4.596646</td>\n",
       "      <td>4.859142</td>\n",
       "      <td>5.393219</td>\n",
       "      <td>1.150482</td>\n",
       "      <td>2.342806</td>\n",
       "      <td>1.0</td>\n",
       "    </tr>\n",
       "    <tr>\n",
       "      <th>2023-03-31</th>\n",
       "      <td>2.996191</td>\n",
       "      <td>4.894310</td>\n",
       "      <td>5.223755</td>\n",
       "      <td>5.294509</td>\n",
       "      <td>1.148110</td>\n",
       "      <td>2.407145</td>\n",
       "      <td>1.0</td>\n",
       "    </tr>\n",
       "    <tr>\n",
       "      <th>2023-04-28</th>\n",
       "      <td>3.039744</td>\n",
       "      <td>4.896180</td>\n",
       "      <td>5.278430</td>\n",
       "      <td>5.294509</td>\n",
       "      <td>1.139450</td>\n",
       "      <td>2.425503</td>\n",
       "      <td>1.0</td>\n",
       "    </tr>\n",
       "    <tr>\n",
       "      <th>2023-05-31</th>\n",
       "      <td>3.047281</td>\n",
       "      <td>5.172065</td>\n",
       "      <td>5.205597</td>\n",
       "      <td>5.294509</td>\n",
       "      <td>1.073346</td>\n",
       "      <td>2.390114</td>\n",
       "      <td>1.0</td>\n",
       "    </tr>\n",
       "    <tr>\n",
       "      <th>0</th>\n",
       "      <td>6.094561</td>\n",
       "      <td>10.344129</td>\n",
       "      <td>10.411194</td>\n",
       "      <td>10.589018</td>\n",
       "      <td>2.146692</td>\n",
       "      <td>4.780227</td>\n",
       "      <td>2.0</td>\n",
       "    </tr>\n",
       "  </tbody>\n",
       "</table>\n",
       "<p>261 rows × 7 columns</p>\n",
       "</div>"
      ],
      "text/plain": [
       "                 SPX  NASDAQComp       GOLD   Property  Commodities  \\\n",
       "2001-10-31  1.000000    1.000000   1.000000   1.000000     1.000000   \n",
       "2001-11-30  1.072484    1.132974   0.981048   1.000000     1.007696   \n",
       "2001-12-31  1.080577    1.144546   0.997182   1.006676     0.987647   \n",
       "2002-01-31  1.063625    1.134899   1.009969   1.006676     0.980982   \n",
       "2002-02-28  1.041296    1.009352   1.058811   1.006676     1.006079   \n",
       "...              ...         ...        ...        ...          ...   \n",
       "2023-02-28  2.896406    4.596646   4.859142   5.393219     1.150482   \n",
       "2023-03-31  2.996191    4.894310   5.223755   5.294509     1.148110   \n",
       "2023-04-28  3.039744    4.896180   5.278430   5.294509     1.139450   \n",
       "2023-05-31  3.047281    5.172065   5.205597   5.294509     1.073346   \n",
       "0           6.094561   10.344129  10.411194  10.589018     2.146692   \n",
       "\n",
       "            CorpBonds  Cash  \n",
       "2001-10-31   1.000000   1.0  \n",
       "2001-11-30   0.991513   1.0  \n",
       "2001-12-31   0.984313   1.0  \n",
       "2002-01-31   0.992630   1.0  \n",
       "2002-02-28   0.999160   1.0  \n",
       "...               ...   ...  \n",
       "2023-02-28   2.342806   1.0  \n",
       "2023-03-31   2.407145   1.0  \n",
       "2023-04-28   2.425503   1.0  \n",
       "2023-05-31   2.390114   1.0  \n",
       "0            4.780227   2.0  \n",
       "\n",
       "[261 rows x 7 columns]"
      ]
     },
     "execution_count": 60,
     "metadata": {},
     "output_type": "execute_result"
    }
   ],
   "source": [
    "restored_price"
   ]
  },
  {
   "cell_type": "code",
   "execution_count": 75,
   "metadata": {},
   "outputs": [
    {
     "data": {
      "text/plain": [
       "0.8901098901098901"
      ]
     },
     "execution_count": 75,
     "metadata": {},
     "output_type": "execute_result"
    }
   ],
   "source": [
    "16.2 / 18.2"
   ]
  },
  {
   "cell_type": "code",
   "execution_count": 72,
   "metadata": {},
   "outputs": [
    {
     "data": {
      "text/plain": [
       "125.47317029019896"
      ]
     },
     "execution_count": 72,
     "metadata": {},
     "output_type": "execute_result"
    }
   ],
   "source": [
    "1.163 ** 32"
   ]
  },
  {
   "cell_type": "code",
   "execution_count": 61,
   "metadata": {},
   "outputs": [
    {
     "data": {
      "text/plain": [
       "[<matplotlib.lines.Line2D at 0x7fab91fe3700>]"
      ]
     },
     "execution_count": 61,
     "metadata": {},
     "output_type": "execute_result"
    },
    {
     "data": {
      "image/png": "[encoded data removed]",
      "text/plain": [
       "<Figure size 1000x800 with 1 Axes>"
      ]
     },
     "metadata": {},
     "output_type": "display_data"
    }
   ],
   "source": [
    "import matplotlib.pyplot as plt\n",
    "f, ax = plt.subplots(1, figsize=(10, 8))\n",
    "ax.plot(worths)\n",
    "ax.plot((restored_price.iloc[-165:-1] / restored_price.iloc[-165]).mean(axis=1).values * 100)"
   ]
  },
  {
   "cell_type": "code",
   "execution_count": 77,
   "metadata": {},
   "outputs": [
    {
     "data": {
      "text/plain": [
       "11.945571787866905"
      ]
     },
     "execution_count": 77,
     "metadata": {},
     "output_type": "execute_result"
    }
   ],
   "source": [
    "np.log(6.591) / np.log(1.171)"
   ]
  },
  {
   "cell_type": "code",
   "execution_count": 78,
   "metadata": {},
   "outputs": [
    {
     "data": {
      "text/plain": [
       "6.067667777234742"
      ]
     },
     "execution_count": 78,
     "metadata": {},
     "output_type": "execute_result"
    }
   ],
   "source": [
    "1.163 ** 11.94"
   ]
  },
  {
   "cell_type": "code",
   "execution_count": 82,
   "metadata": {},
   "outputs": [
    {
     "data": {
      "text/plain": [
       "84.4559585492228"
      ]
     },
     "execution_count": 82,
     "metadata": {},
     "output_type": "execute_result"
    }
   ],
   "source": [
    "16.3 / 0.193"
   ]
  }
 ],
 "metadata": {
  "kernelspec": {
   "display_name": "Python 3 (ipykernel)",
   "language": "python",
   "name": "python3"
  },
  "language_info": {
   "codemirror_mode": {
    "name": "ipython",
    "version": 3
   },
   "file_extension": ".py",
   "mimetype": "text/x-python",
   "name": "python",
   "nbconvert_exporter": "python",
   "pygments_lexer": "ipython3",
   "version": "3.11.4"
  },
  "orig_nbformat": 4
 },
 "nbformat": 4,
 "nbformat_minor": 2
}
