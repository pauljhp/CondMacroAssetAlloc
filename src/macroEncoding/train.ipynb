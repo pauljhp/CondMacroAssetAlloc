{
 "cells": [
  {
   "cell_type": "markdown",
   "metadata": {},
   "source": [
    "# train models"
   ]
  },
  {
   "attachments": {},
   "cell_type": "markdown",
   "metadata": {},
   "source": [
    "## 1. Train deep learning model"
   ]
  },
  {
   "attachments": {},
   "cell_type": "markdown",
   "metadata": {},
   "source": [
    "### 1.1 Load & process data"
   ]
  },
  {
   "cell_type": "code",
   "execution_count": 1,
   "metadata": {},
   "outputs": [
    {
     "name": "stderr",
     "output_type": "stream",
     "text": [
      "/Users/paulp/Projects/CondMacroAssetAlloc/src/macroEncoding/utils/__init__.py:37: RuntimeWarning: divide by zero encountered in divide\n",
      "  res[offset:] = np.log(input[offset:] / input[:-offset])\n",
      "/Users/paulp/Projects/CondMacroAssetAlloc/src/macroEncoding/utils/__init__.py:37: RuntimeWarning: divide by zero encountered in log\n",
      "  res[offset:] = np.log(input[offset:] / input[:-offset])\n",
      "/Users/paulp/Projects/CondMacroAssetAlloc/src/macroEncoding/utils/__init__.py:37: RuntimeWarning: invalid value encountered in log\n",
      "  res[offset:] = np.log(input[offset:] / input[:-offset])\n",
      "/Users/paulp/Projects/CondMacroAssetAlloc/src/macroEncoding/utils/__init__.py:37: RuntimeWarning: divide by zero encountered in divide\n",
      "  res[offset:] = np.log(input[offset:] / input[:-offset])\n",
      "/Users/paulp/Projects/CondMacroAssetAlloc/src/macroEncoding/utils/__init__.py:37: RuntimeWarning: divide by zero encountered in log\n",
      "  res[offset:] = np.log(input[offset:] / input[:-offset])\n",
      "/Users/paulp/Projects/CondMacroAssetAlloc/src/macroEncoding/utils/__init__.py:37: RuntimeWarning: invalid value encountered in log\n",
      "  res[offset:] = np.log(input[offset:] / input[:-offset])\n",
      "/Users/paulp/Projects/CondMacroAssetAlloc/src/macroEncoding/utils/__init__.py:37: RuntimeWarning: invalid value encountered in log\n",
      "  res[offset:] = np.log(input[offset:] / input[:-offset])\n",
      "/Users/paulp/Projects/CondMacroAssetAlloc/src/macroEncoding/utils/__init__.py:37: RuntimeWarning: divide by zero encountered in divide\n",
      "  res[offset:] = np.log(input[offset:] / input[:-offset])\n",
      "/Users/paulp/Projects/CondMacroAssetAlloc/src/macroEncoding/utils/__init__.py:37: RuntimeWarning: invalid value encountered in divide\n",
      "  res[offset:] = np.log(input[offset:] / input[:-offset])\n",
      "/Users/paulp/Projects/CondMacroAssetAlloc/src/macroEncoding/utils/__init__.py:37: RuntimeWarning: divide by zero encountered in log\n",
      "  res[offset:] = np.log(input[offset:] / input[:-offset])\n",
      "/Users/paulp/Projects/CondMacroAssetAlloc/src/macroEncoding/utils/__init__.py:37: RuntimeWarning: invalid value encountered in log\n",
      "  res[offset:] = np.log(input[offset:] / input[:-offset])\n"
     ]
    }
   ],
   "source": [
    "from deepLearning.dataloader import MacroData\n",
    "from torch.utils.data import DataLoader\n",
    "import torch\n",
    "import pandas as pd\n",
    "import utils\n",
    "import numpy as np\n",
    "\n",
    "\n",
    "na_thresh = 500\n",
    "df = pd.read_pickle(\"../../data/macro/consolidated_macro_data.pkl\")\n",
    "df = df.dropna(thresh=na_thresh, axis=1).dropna(axis=0)\n",
    "df = df.T.drop_duplicates().T\n",
    "processor = utils.PreProcessor(df)\n",
    "\n",
    "md = MacroData(48, processor.train, pad_val=-1e10)\n",
    "DEVICE = torch.device(\"cpu\")\n",
    "DTYPE = torch.float32\n",
    "def collate_fn(input, device=DEVICE, dtype=DTYPE):\n",
    "    \"\"\"collate inputs batch first\"\"\"\n",
    "    idxs, data_ls, paddings = [], [], []\n",
    "    for idx, data, padding_mask in input:\n",
    "        idxs.append(idx)\n",
    "        data_ls.append(data)\n",
    "        paddings.append(padding_mask)\n",
    "    return (\n",
    "        idxs,\n",
    "        torch.tensor(np.array(data_ls), dtype=dtype).to(device),\n",
    "        torch.tensor(paddings, dtype=torch.bool).to(device)\n",
    "    )\n",
    "dataloader = DataLoader(md, batch_size=32, collate_fn=collate_fn)"
   ]
  },
  {
   "cell_type": "code",
   "execution_count": 2,
   "metadata": {},
   "outputs": [],
   "source": [
    "import torch.nn as nn\n",
    "from typing import Tuple\n",
    "\n",
    "\n",
    "class AutoEncoder(nn.Module):\n",
    "    def __init__(self, \n",
    "                 window_size: int=60,\n",
    "                 num_transformer_layers: int=3,\n",
    "                 nhead: int=10,\n",
    "                 dim: int=60,\n",
    "                 encoding_dims: int=5):\n",
    "        super().__init__()\n",
    "        self.window_size = window_size\n",
    "        self.dim = dim\n",
    "        encoder_layer = nn.TransformerEncoderLayer(d_model=dim, nhead=nhead, batch_first=True)\n",
    "        decoder_layer = nn.TransformerDecoderLayer(d_model=dim, nhead=nhead, batch_first=True)\n",
    "        self.transformer_encoder = nn.TransformerEncoder(encoder_layer=encoder_layer, num_layers=num_transformer_layers)\n",
    "        self.linear_encoder = nn.Sequential(\n",
    "            nn.Flatten(1, -1),\n",
    "            nn.Linear(dim * window_size, dim * window_size // 4),\n",
    "            nn.Linear(dim * window_size // 4, dim * window_size // 4 ** 2),\n",
    "            nn.Linear(dim * window_size // 4 ** 2, dim * window_size // 4 ** 3),\n",
    "            nn.Linear(dim * window_size // 4 ** 3, encoding_dims)\n",
    "        )\n",
    "        self.linear_decoder = nn.Sequential(\n",
    "            nn.Linear(encoding_dims, dim * window_size // 4 ** 3),\n",
    "            nn.Linear(dim * window_size // 4 ** 3, dim * window_size // 4 ** 2),\n",
    "            nn.Linear(dim * window_size // 4 ** 2, dim * window_size // 4),\n",
    "            nn.Linear(dim * window_size // 4, dim * window_size),\n",
    "            nn.Unflatten(-1, (self.window_size, self.dim)),\n",
    "        )\n",
    "        self.transformer_decoder = nn.TransformerDecoder(decoder_layer=decoder_layer, num_layers=num_transformer_layers)\n",
    "        self.tanh = nn.Tanh()\n",
    "\n",
    "    def encode(self, x: torch.tensor, padding_mask: torch.tensor) -> Tuple[torch.tensor]:\n",
    "        x_ = self.transformer_encoder(x, src_key_padding_mask=padding_mask)\n",
    "        # x_ = torch.flatten(x_, 1, 2)\n",
    "        z = self.linear_encoder(x_)\n",
    "        z = self.tanh(z)\n",
    "        return x_, z\n",
    "    \n",
    "    def decode(self, z: torch.tensor, memory: torch.tensor) -> torch.tensor:\n",
    "        y_ = self.linear_decoder(z)\n",
    "        y = self.transformer_decoder(y_, memory=memory)\n",
    "        return y\n",
    "\n",
    "    def forward(self, x, padding_mask: torch.tensor) -> torch.tensor:\n",
    "        x_, z = self.encode(x, padding_mask=padding_mask)\n",
    "        y_ = self.decode(z, x_)\n",
    "        return y_\n",
    "    \n",
    "    def __call__(self, x, padding_mask) -> torch.tensor:\n",
    "        return self.forward(x, padding_mask)\n"
   ]
  },
  {
   "cell_type": "code",
   "execution_count": 3,
   "metadata": {},
   "outputs": [],
   "source": [
    "ae = AutoEncoder(window_size=48)"
   ]
  },
  {
   "cell_type": "code",
   "execution_count": 4,
   "metadata": {},
   "outputs": [
    {
     "name": "stderr",
     "output_type": "stream",
     "text": [
      "2023-05-08 23:11:04.132753: I tensorflow/core/platform/cpu_feature_guard.cc:182] This TensorFlow binary is optimized to use available CPU instructions in performance-critical operations.\n",
      "To enable the following instructions: AVX2 AVX512F AVX512_VNNI FMA, in other operations, rebuild TensorFlow with the appropriate compiler flags.\n",
      "/var/folders/yj/wqg800sj77gcsfbrrlb31c080000gn/T/ipykernel_25649/3812268119.py:28: DeprecationWarning: In future, it will be an error for 'np.bool_' scalars to be interpreted as an index\n",
      "  torch.tensor(paddings, dtype=torch.bool).to(device)\n",
      "/var/folders/yj/wqg800sj77gcsfbrrlb31c080000gn/T/ipykernel_25649/3812268119.py:28: UserWarning: Creating a tensor from a list of numpy.ndarrays is extremely slow. Please consider converting the list to a single numpy.ndarray with numpy.array() before converting to a tensor. (Triggered internally at /private/var/folders/sy/f16zz6x50xz3113nwtb9bvq00000gp/T/abs_9d63z49rj_/croot/pytorch_1681837279022/work/torch/csrc/utils/tensor_new.cpp:233.)\n",
      "  torch.tensor(paddings, dtype=torch.bool).to(device)\n"
     ]
    },
    {
     "name": "stdout",
     "output_type": "stream",
     "text": [
      "Epoch [1/100], Loss: 4.9442\n"
     ]
    }
   ],
   "source": [
    "import torch\n",
    "from torch.optim import AdamW\n",
    "from torch.utils.data import DataLoader, TensorDataset\n",
    "from torch.nn import CrossEntropyLoss\n",
    "from torch.utils.tensorboard import SummaryWriter\n",
    "\n",
    "\n",
    "def get_grads(model: nn.Module):\n",
    "    grads = {n:p.grad.cpu() for n, p in model.named_parameters()}\n",
    "    return grads\n",
    "\n",
    "lr = 5e-3\n",
    "device = torch.device('cuda' if torch.cuda.is_available() else 'cpu')\n",
    "\n",
    "num_epochs = 100\n",
    "criterion = nn.MSELoss()\n",
    "optimizer = AdamW(ae.parameters(), lr=lr, betas=(0.9, 0.99), eps=1e-4)\n",
    "\n",
    "Logger = SummaryWriter(log_dir=f\"./deepLearning/logs/lr={lr}\")\n",
    "\n",
    "for epoch in range(num_epochs):\n",
    "    for inputs in dataloader:\n",
    "        idx, x, padding_mask = inputs\n",
    "        x_ = x.to(device)\n",
    "        inverted_mask = (torch.tensor(1) - padding_mask.unsqueeze(-1).to(torch.int)) \n",
    "        x_ = inverted_mask * x_\n",
    "        y = ae(x, padding_mask)\n",
    "        y_ = inverted_mask * y\n",
    "\n",
    "        loss = criterion(x_, y_)\n",
    "        optimizer.zero_grad()\n",
    "        loss.backward()\n",
    "\n",
    "        optimizer.step()\n",
    "\n",
    "    Logger.add_scalar(\"train/loss\", loss, global_step=epoch)\n",
    "    grads = get_grads(ae)\n",
    "    for grad_name, grad in grads.items():\n",
    "        Logger.add_histogram(f\"train/gradient/{grad_name}\", grad, global_step=epoch)\n",
    "\n",
    "    print(f\"Epoch [{epoch + 1}/{num_epochs}], Loss: {loss.item():.4f}\")"
   ]
  },
  {
   "cell_type": "code",
   "execution_count": 107,
   "metadata": {},
   "outputs": [],
   "source": [
    "z = ae.encode(inputs)"
   ]
  },
  {
   "cell_type": "code",
   "execution_count": null,
   "metadata": {},
   "outputs": [],
   "source": []
  }
 ],
 "metadata": {
  "kernelspec": {
   "display_name": "macroalloc_env",
   "language": "python",
   "name": "python3"
  },
  "language_info": {
   "codemirror_mode": {
    "name": "ipython",
    "version": 3
   },
   "file_extension": ".py",
   "mimetype": "text/x-python",
   "name": "python",
   "nbconvert_exporter": "python",
   "pygments_lexer": "ipython3",
   "version": "3.10.11"
  },
  "orig_nbformat": 4
 },
 "nbformat": 4,
 "nbformat_minor": 2
}
