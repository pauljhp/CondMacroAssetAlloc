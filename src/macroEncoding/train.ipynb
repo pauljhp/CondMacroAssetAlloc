{
 "cells": [
  {
   "cell_type": "markdown",
   "metadata": {},
   "source": [
    "# train models"
   ]
  },
  {
   "attachments": {},
   "cell_type": "markdown",
   "metadata": {},
   "source": [
    "## 1. Train deep learning model"
   ]
  },
  {
   "attachments": {},
   "cell_type": "markdown",
   "metadata": {},
   "source": [
    "### 1.1 Load & process data"
   ]
  },
  {
   "cell_type": "code",
   "execution_count": 15,
   "metadata": {},
   "outputs": [
    {
     "name": "stderr",
     "output_type": "stream",
     "text": [
      "/Users/paulp/Projects/CondMacroAssetAlloc/src/macroEncoding/utils/__init__.py:37: RuntimeWarning: divide by zero encountered in divide\n",
      "  res[offset:] = np.log(input[offset:] / input[:-offset])\n",
      "/Users/paulp/Projects/CondMacroAssetAlloc/src/macroEncoding/utils/__init__.py:37: RuntimeWarning: divide by zero encountered in log\n",
      "  res[offset:] = np.log(input[offset:] / input[:-offset])\n",
      "/Users/paulp/Projects/CondMacroAssetAlloc/src/macroEncoding/utils/__init__.py:37: RuntimeWarning: invalid value encountered in log\n",
      "  res[offset:] = np.log(input[offset:] / input[:-offset])\n",
      "/Users/paulp/Projects/CondMacroAssetAlloc/src/macroEncoding/utils/__init__.py:37: RuntimeWarning: divide by zero encountered in divide\n",
      "  res[offset:] = np.log(input[offset:] / input[:-offset])\n",
      "/Users/paulp/Projects/CondMacroAssetAlloc/src/macroEncoding/utils/__init__.py:37: RuntimeWarning: divide by zero encountered in log\n",
      "  res[offset:] = np.log(input[offset:] / input[:-offset])\n",
      "/Users/paulp/Projects/CondMacroAssetAlloc/src/macroEncoding/utils/__init__.py:37: RuntimeWarning: invalid value encountered in log\n",
      "  res[offset:] = np.log(input[offset:] / input[:-offset])\n",
      "/Users/paulp/Projects/CondMacroAssetAlloc/src/macroEncoding/utils/__init__.py:37: RuntimeWarning: invalid value encountered in log\n",
      "  res[offset:] = np.log(input[offset:] / input[:-offset])\n",
      "/Users/paulp/Projects/CondMacroAssetAlloc/src/macroEncoding/utils/__init__.py:37: RuntimeWarning: divide by zero encountered in divide\n",
      "  res[offset:] = np.log(input[offset:] / input[:-offset])\n",
      "/Users/paulp/Projects/CondMacroAssetAlloc/src/macroEncoding/utils/__init__.py:37: RuntimeWarning: invalid value encountered in divide\n",
      "  res[offset:] = np.log(input[offset:] / input[:-offset])\n",
      "/Users/paulp/Projects/CondMacroAssetAlloc/src/macroEncoding/utils/__init__.py:37: RuntimeWarning: divide by zero encountered in log\n",
      "  res[offset:] = np.log(input[offset:] / input[:-offset])\n",
      "/Users/paulp/Projects/CondMacroAssetAlloc/src/macroEncoding/utils/__init__.py:37: RuntimeWarning: invalid value encountered in log\n",
      "  res[offset:] = np.log(input[offset:] / input[:-offset])\n"
     ]
    }
   ],
   "source": [
    "from deepLearning.dataloader import MacroData\n",
    "from torch.utils.data import DataLoader\n",
    "import torch\n",
    "import pandas as pd\n",
    "import utils\n",
    "\n",
    "\n",
    "na_thresh = 500\n",
    "df = pd.read_pickle(\"../../data/macro/consolidated_macro_data.pkl\")\n",
    "df = df.dropna(thresh=na_thresh, axis=1).dropna(axis=0)\n",
    "df = df.T.drop_duplicates().T\n",
    "processor = utils.PreProcessor(df)\n",
    "\n",
    "md = MacroData(48, processor.train)\n",
    "DEVICE = torch.device(\"cpu\")\n",
    "DTYPE = torch.float32\n",
    "def collate_fn(data, device=DEVICE, dtype=DTYPE):\n",
    "    return torch.tensor(data, dtype=dtype).to(device)\n",
    "dataloader = DataLoader(md, batch_size=32, collate_fn=collate_fn)"
   ]
  },
  {
   "cell_type": "code",
   "execution_count": 16,
   "metadata": {},
   "outputs": [],
   "source": [
    "X = next(iter(dataloader))"
   ]
  },
  {
   "cell_type": "code",
   "execution_count": 17,
   "metadata": {},
   "outputs": [
    {
     "data": {
      "text/plain": [
       "torch.Size([32, 48, 60])"
      ]
     },
     "execution_count": 17,
     "metadata": {},
     "output_type": "execute_result"
    }
   ],
   "source": [
    "X.shape"
   ]
  },
  {
   "cell_type": "code",
   "execution_count": 86,
   "metadata": {},
   "outputs": [],
   "source": [
    "import torch.nn as nn\n",
    "from typing import Tuple\n",
    "\n",
    "\n",
    "class AutoEncoder(nn.Module):\n",
    "    def __init__(self, \n",
    "                 window_size: int=60,\n",
    "                 num_transformer_layers: int=3,\n",
    "                 nhead: int=10,\n",
    "                 dim: int=60,\n",
    "                 encoding_dims: int=5):\n",
    "        super().__init__()\n",
    "        self.window_size = window_size\n",
    "        self.dim = dim\n",
    "        encoder_layer = nn.TransformerEncoderLayer(d_model=dim, nhead=nhead, batch_first=True)\n",
    "        decoder_layer = nn.TransformerDecoderLayer(d_model=dim, nhead=nhead, batch_first=True)\n",
    "        self.transformer_encoder = nn.TransformerEncoder(encoder_layer=encoder_layer, num_layers=num_transformer_layers)\n",
    "        self.linear_encoder = nn.Sequential(\n",
    "            nn.Flatten(1, -1),\n",
    "            nn.Linear(dim * window_size, dim * window_size // 4),\n",
    "            nn.Linear(dim * window_size // 4, dim * window_size // 4 ** 2),\n",
    "            nn.Linear(dim * window_size // 4 ** 2, dim * window_size // 4 ** 3),\n",
    "            nn.Linear(dim * window_size // 4 ** 3, encoding_dims)\n",
    "        )\n",
    "        self.linear_decoder = nn.Sequential(\n",
    "            nn.Linear(encoding_dims, dim * window_size // 4 ** 3),\n",
    "            nn.Linear(dim * window_size // 4 ** 3, dim * window_size // 4 ** 2),\n",
    "            nn.Linear(dim * window_size // 4 ** 2, dim * window_size // 4),\n",
    "            nn.Linear(dim * window_size // 4, dim * window_size),\n",
    "            nn.Unflatten(-1, (self.window_size, self.dim)),\n",
    "        )\n",
    "        self.transformer_decoder = nn.TransformerDecoder(decoder_layer=decoder_layer, num_layers=num_transformer_layers)\n",
    "        self.tanh = nn.Tanh()\n",
    "\n",
    "    def encode(self, x: torch.tensor) -> Tuple[torch.tensor]:\n",
    "        x_ = self.transformer_encoder(x)\n",
    "        # x_ = torch.flatten(x_, 1, 2)\n",
    "        z = self.linear_encoder(x_)\n",
    "        z = self.tanh(z)\n",
    "        return x_, z\n",
    "    \n",
    "    def decode(self, z: torch.tensor, memory: torch.tensor) -> torch.tensor:\n",
    "        y_ = self.linear_decoder(z)\n",
    "        y = self.transformer_decoder(y_, memory=memory)\n",
    "        return y\n",
    "\n",
    "    def forward(self, x) -> torch.tensor:\n",
    "        x_, z = self.encode(x)\n",
    "        y_ = self.decode(z, x_)\n",
    "        return y_\n",
    "    \n",
    "    def __call__(self, x) -> torch.tensor:\n",
    "        return self.forward(x)\n"
   ]
  },
  {
   "cell_type": "code",
   "execution_count": 87,
   "metadata": {},
   "outputs": [],
   "source": [
    "ae = AutoEncoder(window_size=48)"
   ]
  },
  {
   "cell_type": "code",
   "execution_count": 88,
   "metadata": {},
   "outputs": [],
   "source": [
    "x_, z = ae.encode(X)\n",
    "y_ = ae.decode(z, x_)"
   ]
  },
  {
   "cell_type": "code",
   "execution_count": 93,
   "metadata": {},
   "outputs": [
    {
     "name": "stdout",
     "output_type": "stream",
     "text": [
      "Epoch [1/100], Loss: -2458468352.0000\n",
      "Epoch [2/100], Loss: -2493970688.0000\n",
      "Epoch [3/100], Loss: -2536098560.0000\n",
      "Epoch [4/100], Loss: -2552889088.0000\n",
      "Epoch [5/100], Loss: -2582337792.0000\n",
      "Epoch [6/100], Loss: -2600558336.0000\n",
      "Epoch [7/100], Loss: -2618652160.0000\n",
      "Epoch [8/100], Loss: -2637241344.0000\n",
      "Epoch [9/100], Loss: -2661593856.0000\n"
     ]
    }
   ],
   "source": [
    "import torch\n",
    "from torch.optim import AdamW\n",
    "from torch.utils.data import DataLoader, TensorDataset\n",
    "from torch.nn import CrossEntropyLoss\n",
    "from torch.utils.tensorboard import SummaryWriter\n",
    "\n",
    "\n",
    "\n",
    "\n",
    "lr = 1e-3\n",
    "device = torch.device('cuda' if torch.cuda.is_available() else 'cpu')\n",
    "\n",
    "num_epochs = 100\n",
    "criterion = nn.CrossEntropyLoss()\n",
    "optimizer = AdamW(ae.parameters(), lr=lr, betas=(0.9, 0.99), eps=1e-4)\n",
    "\n",
    "Logger = SummaryWriter(log_dir=f\"./deepLearning/logs/lr={lr}\")\n",
    "\n",
    "for epoch in range(num_epochs):\n",
    "    for inputs in dataloader:\n",
    "        inputs = inputs.to(device)\n",
    "        outputs = ae(inputs)\n",
    "\n",
    "        loss = criterion(inputs, outputs)\n",
    "        optimizer.zero_grad()\n",
    "        loss.backward()\n",
    "\n",
    "        optimizer.step()\n",
    "\n",
    "    Logger.add_scalar(\"train/loss\", loss, global_step=epoch)\n",
    "\n",
    "    print(f\"Epoch [{epoch + 1}/{num_epochs}], Loss: {loss.item():.4f}\")"
   ]
  },
  {
   "cell_type": "code",
   "execution_count": null,
   "metadata": {},
   "outputs": [],
   "source": []
  }
 ],
 "metadata": {
  "kernelspec": {
   "display_name": "macroalloc_env",
   "language": "python",
   "name": "python3"
  },
  "language_info": {
   "codemirror_mode": {
    "name": "ipython",
    "version": 3
   },
   "file_extension": ".py",
   "mimetype": "text/x-python",
   "name": "python",
   "nbconvert_exporter": "python",
   "pygments_lexer": "ipython3",
   "version": "3.10.11"
  },
  "orig_nbformat": 4
 },
 "nbformat": 4,
 "nbformat_minor": 2
}
