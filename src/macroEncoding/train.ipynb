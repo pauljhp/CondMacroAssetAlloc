{
 "cells": [
  {
   "cell_type": "markdown",
   "metadata": {},
   "source": [
    "# train models"
   ]
  },
  {
   "attachments": {},
   "cell_type": "markdown",
   "metadata": {},
   "source": [
    "## 1. Train deep learning model"
   ]
  },
  {
   "attachments": {},
   "cell_type": "markdown",
   "metadata": {},
   "source": [
    "### 1.1 Load & process data"
   ]
  },
  {
   "cell_type": "code",
   "execution_count": 1,
   "metadata": {},
   "outputs": [
    {
     "name": "stderr",
     "output_type": "stream",
     "text": [
      "/Users/paulp/Projects/CondMacroAssetAlloc/src/macroEncoding/utils/__init__.py:37: RuntimeWarning: divide by zero encountered in divide\n",
      "  res[offset:] = np.log(input[offset:] / input[:-offset])\n",
      "/Users/paulp/Projects/CondMacroAssetAlloc/src/macroEncoding/utils/__init__.py:37: RuntimeWarning: divide by zero encountered in log\n",
      "  res[offset:] = np.log(input[offset:] / input[:-offset])\n",
      "/Users/paulp/Projects/CondMacroAssetAlloc/src/macroEncoding/utils/__init__.py:37: RuntimeWarning: invalid value encountered in log\n",
      "  res[offset:] = np.log(input[offset:] / input[:-offset])\n",
      "/Users/paulp/Projects/CondMacroAssetAlloc/src/macroEncoding/utils/__init__.py:37: RuntimeWarning: divide by zero encountered in divide\n",
      "  res[offset:] = np.log(input[offset:] / input[:-offset])\n",
      "/Users/paulp/Projects/CondMacroAssetAlloc/src/macroEncoding/utils/__init__.py:37: RuntimeWarning: divide by zero encountered in log\n",
      "  res[offset:] = np.log(input[offset:] / input[:-offset])\n",
      "/Users/paulp/Projects/CondMacroAssetAlloc/src/macroEncoding/utils/__init__.py:37: RuntimeWarning: invalid value encountered in log\n",
      "  res[offset:] = np.log(input[offset:] / input[:-offset])\n",
      "/Users/paulp/Projects/CondMacroAssetAlloc/src/macroEncoding/utils/__init__.py:37: RuntimeWarning: invalid value encountered in log\n",
      "  res[offset:] = np.log(input[offset:] / input[:-offset])\n",
      "/Users/paulp/Projects/CondMacroAssetAlloc/src/macroEncoding/utils/__init__.py:37: RuntimeWarning: divide by zero encountered in divide\n",
      "  res[offset:] = np.log(input[offset:] / input[:-offset])\n",
      "/Users/paulp/Projects/CondMacroAssetAlloc/src/macroEncoding/utils/__init__.py:37: RuntimeWarning: invalid value encountered in divide\n",
      "  res[offset:] = np.log(input[offset:] / input[:-offset])\n",
      "/Users/paulp/Projects/CondMacroAssetAlloc/src/macroEncoding/utils/__init__.py:37: RuntimeWarning: divide by zero encountered in log\n",
      "  res[offset:] = np.log(input[offset:] / input[:-offset])\n",
      "/Users/paulp/Projects/CondMacroAssetAlloc/src/macroEncoding/utils/__init__.py:37: RuntimeWarning: invalid value encountered in log\n",
      "  res[offset:] = np.log(input[offset:] / input[:-offset])\n"
     ]
    }
   ],
   "source": [
    "from deepLearning.dataloader import MacroData\n",
    "from torch.utils.data import DataLoader\n",
    "import torch\n",
    "import pandas as pd\n",
    "import utils\n",
    "import numpy as np\n",
    "\n",
    "\n",
    "na_thresh = 500\n",
    "df = pd.read_pickle(\"../../data/macro/consolidated_macro_data.pkl\")\n",
    "df = df.dropna(thresh=na_thresh, axis=1).dropna(axis=0)\n",
    "df = df.T.drop_duplicates().T\n",
    "processor = utils.PreProcessor(df)\n",
    "\n",
    "md = MacroData(48, processor.train, pad_val=-1e10)\n",
    "DEVICE = torch.device(\"cpu\")\n",
    "DTYPE = torch.float32\n",
    "def collate_fn(input, device=DEVICE, dtype=DTYPE):\n",
    "    \"\"\"collate inputs batch first\"\"\"\n",
    "    idxs, data_ls, paddings = [], [], []\n",
    "    for idx, data, padding_mask in input:\n",
    "        idxs.append(idx)\n",
    "        data_ls.append(data)\n",
    "        paddings.append(padding_mask)\n",
    "    return (\n",
    "        idxs,\n",
    "        torch.tensor(np.array(data_ls), dtype=dtype).to(device),\n",
    "        torch.tensor(paddings, dtype=torch.bool).to(device)\n",
    "    )\n",
    "dataloader = DataLoader(md, batch_size=32, collate_fn=collate_fn)"
   ]
  },
  {
   "cell_type": "code",
   "execution_count": 2,
   "metadata": {},
   "outputs": [],
   "source": [
    "import torch.nn as nn\n",
    "from typing import Tuple\n",
    "\n",
    "\n",
    "class AutoEncoder(nn.Module):\n",
    "    def __init__(self, \n",
    "                 window_size: int=60,\n",
    "                 num_transformer_layers: int=3,\n",
    "                 nhead: int=10,\n",
    "                 dim: int=60,\n",
    "                 encoding_dims: int=5):\n",
    "        super().__init__()\n",
    "        self.window_size = window_size\n",
    "        self.dim = dim\n",
    "        encoder_layer = nn.TransformerEncoderLayer(d_model=dim, nhead=nhead, batch_first=True)\n",
    "        decoder_layer = nn.TransformerDecoderLayer(d_model=dim, nhead=nhead, batch_first=True)\n",
    "        self.transformer_encoder = nn.TransformerEncoder(encoder_layer=encoder_layer, num_layers=num_transformer_layers)\n",
    "        self.linear_encoder = nn.Sequential(\n",
    "            nn.Flatten(1, -1),\n",
    "            nn.Linear(dim * window_size, dim * window_size // 4),\n",
    "            nn.Linear(dim * window_size // 4, dim * window_size // 4 ** 2),\n",
    "            nn.Linear(dim * window_size // 4 ** 2, dim * window_size // 4 ** 3),\n",
    "            nn.Linear(dim * window_size // 4 ** 3, encoding_dims)\n",
    "        )\n",
    "        self.linear_decoder = nn.Sequential(\n",
    "            nn.Linear(encoding_dims, dim * window_size // 4 ** 3),\n",
    "            nn.Linear(dim * window_size // 4 ** 3, dim * window_size // 4 ** 2),\n",
    "            nn.Linear(dim * window_size // 4 ** 2, dim * window_size // 4),\n",
    "            nn.Linear(dim * window_size // 4, dim * window_size),\n",
    "            nn.Unflatten(-1, (self.window_size, self.dim)),\n",
    "        )\n",
    "        self.transformer_decoder = nn.TransformerDecoder(decoder_layer=decoder_layer, num_layers=num_transformer_layers)\n",
    "        self.tanh = nn.Tanh()\n",
    "\n",
    "    def encode(self, x: torch.tensor, padding_mask: torch.tensor) -> Tuple[torch.tensor]:\n",
    "        x_ = self.transformer_encoder(x, src_key_padding_mask=padding_mask)\n",
    "        # x_ = torch.flatten(x_, 1, 2)\n",
    "        z = self.linear_encoder(x_)\n",
    "        z = self.tanh(z)\n",
    "        return x_, z\n",
    "    \n",
    "    def decode(self, z: torch.tensor, memory: torch.tensor) -> torch.tensor:\n",
    "        y_ = self.linear_decoder(z)\n",
    "        y = self.transformer_decoder(y_, memory=memory)\n",
    "        return y\n",
    "\n",
    "    def forward(self, x, padding_mask: torch.tensor) -> torch.tensor:\n",
    "        x_, z = self.encode(x, padding_mask=padding_mask)\n",
    "        y_ = self.decode(z, x_)\n",
    "        return y_\n",
    "    \n",
    "    def __call__(self, x, padding_mask) -> torch.tensor:\n",
    "        return self.forward(x, padding_mask)\n"
   ]
  },
  {
   "cell_type": "code",
   "execution_count": 57,
   "metadata": {},
   "outputs": [],
   "source": [
    "ae = AutoEncoder(window_size=48, num_transformer_layers=6, encoding_dims=10)"
   ]
  },
  {
   "cell_type": "code",
   "execution_count": 58,
   "metadata": {},
   "outputs": [
    {
     "name": "stderr",
     "output_type": "stream",
     "text": [
      "/var/folders/yj/wqg800sj77gcsfbrrlb31c080000gn/T/ipykernel_25649/3812268119.py:28: DeprecationWarning: In future, it will be an error for 'np.bool_' scalars to be interpreted as an index\n",
      "  torch.tensor(paddings, dtype=torch.bool).to(device)\n"
     ]
    },
    {
     "name": "stdout",
     "output_type": "stream",
     "text": [
      "Epoch [1/100], Loss: 4.6749\n",
      "Epoch [2/100], Loss: 4.4685\n",
      "Epoch [3/100], Loss: 4.2353\n",
      "Epoch [4/100], Loss: 4.1520\n",
      "Epoch [5/100], Loss: 4.0272\n",
      "Epoch [6/100], Loss: 3.9770\n",
      "Epoch [7/100], Loss: 3.9386\n",
      "Epoch [8/100], Loss: 4.0272\n",
      "Epoch [9/100], Loss: 3.8498\n",
      "Epoch [10/100], Loss: 3.8264\n",
      "Epoch [11/100], Loss: 3.7798\n",
      "Epoch [12/100], Loss: 3.7513\n",
      "Epoch [13/100], Loss: 3.7654\n",
      "Epoch [14/100], Loss: 3.7576\n",
      "Epoch [15/100], Loss: 4.0858\n",
      "Epoch [16/100], Loss: 3.7839\n",
      "Epoch [17/100], Loss: 3.6610\n",
      "Epoch [18/100], Loss: 3.5280\n",
      "Epoch [19/100], Loss: 3.5304\n",
      "Epoch [20/100], Loss: 3.4441\n",
      "Epoch [21/100], Loss: 3.4517\n",
      "Epoch [22/100], Loss: 3.3966\n",
      "Epoch [23/100], Loss: 3.3562\n",
      "Epoch [24/100], Loss: 3.4214\n",
      "Epoch [25/100], Loss: 3.4004\n",
      "Epoch [26/100], Loss: 3.4584\n",
      "Epoch [27/100], Loss: 3.3241\n",
      "Epoch [28/100], Loss: 3.2886\n",
      "Epoch [29/100], Loss: 3.2829\n",
      "Epoch [30/100], Loss: 3.3207\n",
      "Epoch [31/100], Loss: 3.3287\n",
      "Epoch [32/100], Loss: 3.3578\n",
      "Epoch [33/100], Loss: 3.3046\n",
      "Epoch [34/100], Loss: 3.3268\n",
      "Epoch [35/100], Loss: 3.3666\n",
      "Epoch [36/100], Loss: 3.3793\n",
      "Epoch [37/100], Loss: 3.2843\n",
      "Epoch [38/100], Loss: 3.2272\n",
      "Epoch [39/100], Loss: 3.1965\n",
      "Epoch [40/100], Loss: 3.1827\n",
      "Epoch [41/100], Loss: 3.1728\n",
      "Epoch [42/100], Loss: 3.1630\n",
      "Epoch [43/100], Loss: 3.1594\n",
      "Epoch [44/100], Loss: 3.2000\n",
      "Epoch [45/100], Loss: 3.3706\n",
      "Epoch [46/100], Loss: 3.3443\n",
      "Epoch [47/100], Loss: 3.2185\n",
      "Epoch [48/100], Loss: 3.1740\n",
      "Epoch [49/100], Loss: 3.1767\n",
      "Epoch [50/100], Loss: 3.1541\n",
      "Epoch [51/100], Loss: 3.1958\n",
      "Epoch [52/100], Loss: 3.2964\n",
      "Epoch [53/100], Loss: 3.2228\n",
      "Epoch [54/100], Loss: 3.1853\n",
      "Epoch [55/100], Loss: 3.1991\n",
      "Epoch [56/100], Loss: 3.1799\n",
      "Epoch [57/100], Loss: 3.1526\n",
      "Epoch [58/100], Loss: 3.1346\n",
      "Epoch [59/100], Loss: 3.1460\n",
      "Epoch [60/100], Loss: 3.1560\n",
      "Epoch [61/100], Loss: 3.1302\n",
      "Epoch [62/100], Loss: 3.1171\n",
      "Epoch [63/100], Loss: 3.1028\n",
      "Epoch [64/100], Loss: 3.0946\n",
      "Epoch [65/100], Loss: 3.0937\n",
      "Epoch [66/100], Loss: 3.1326\n",
      "Epoch [67/100], Loss: 3.1814\n",
      "Epoch [68/100], Loss: 3.1974\n",
      "Epoch [69/100], Loss: 3.1501\n",
      "Epoch [70/100], Loss: 3.1272\n",
      "Epoch [71/100], Loss: 3.0973\n",
      "Epoch [72/100], Loss: 3.1172\n",
      "Epoch [73/100], Loss: 3.1143\n",
      "Epoch [74/100], Loss: 3.1458\n",
      "Epoch [75/100], Loss: 3.1407\n",
      "Epoch [76/100], Loss: 3.1652\n",
      "Epoch [77/100], Loss: 3.1015\n",
      "Epoch [78/100], Loss: 3.0775\n",
      "Epoch [79/100], Loss: 3.0736\n",
      "Epoch [80/100], Loss: 3.0607\n",
      "Epoch [81/100], Loss: 3.0684\n",
      "Epoch [82/100], Loss: 3.0788\n",
      "Epoch [83/100], Loss: 3.1102\n",
      "Epoch [84/100], Loss: 3.1115\n"
     ]
    }
   ],
   "source": [
    "import torch\n",
    "from torch.optim import AdamW\n",
    "from torch.utils.data import DataLoader, TensorDataset\n",
    "from torch.nn import CrossEntropyLoss\n",
    "from torch.utils.tensorboard import SummaryWriter\n",
    "\n",
    "\n",
    "def get_grads(model: nn.Module):\n",
    "    grads = {n:p.grad.cpu() for n, p in model.named_parameters()}\n",
    "    return grads\n",
    "\n",
    "lr = 1e-4\n",
    "device = torch.device('cuda' if torch.cuda.is_available() else 'cpu')\n",
    "\n",
    "num_epochs = 100\n",
    "criterion = nn.MSELoss()\n",
    "optimizer = AdamW(ae.parameters(), lr=lr, betas=(0.9, 0.99), eps=1e-4)\n",
    "\n",
    "Logger = SummaryWriter(log_dir=f\"./deepLearning/logs/lr={lr}\")\n",
    "\n",
    "for epoch in range(num_epochs):\n",
    "    for inputs in dataloader:\n",
    "        idx, x, padding_mask = inputs\n",
    "        x_ = x.to(device)\n",
    "        inverted_mask = (torch.tensor(1) - padding_mask.unsqueeze(-1).to(torch.int)) \n",
    "        x_ = inverted_mask * x_ # mask padding tokens to 0 for loss calculation\n",
    "        y = ae(x, padding_mask)\n",
    "        y_ = inverted_mask * y\n",
    "\n",
    "        loss = criterion(x_, y_)\n",
    "        optimizer.zero_grad()\n",
    "        loss.backward()\n",
    "\n",
    "        optimizer.step()\n",
    "\n",
    "    Logger.add_scalar(\"train/loss\", loss, global_step=epoch)\n",
    "    grads = get_grads(ae)\n",
    "    for grad_name, grad in grads.items():\n",
    "        Logger.add_histogram(f\"train/gradient/{grad_name}\", grad, global_step=epoch)\n",
    "\n",
    "    print(f\"Epoch [{epoch + 1}/{num_epochs}], Loss: {loss.item():.4f}\")"
   ]
  },
  {
   "cell_type": "code",
   "execution_count": 13,
   "metadata": {},
   "outputs": [],
   "source": [
    "_, z = ae.encode(x, padding_mask)"
   ]
  },
  {
   "cell_type": "code",
   "execution_count": 52,
   "metadata": {},
   "outputs": [],
   "source": [
    "def predict(indx: int):\n",
    "    _, x, mask = md[indx]\n",
    "    x_ = torch.tensor(x, dtype=DTYPE).unsqueeze(-1).permute((2, 0, 1))\n",
    "    mask_ = torch.tensor(mask, dtype=torch.bool).unsqueeze(-1).permute(1, 0)\n",
    "                                            \n",
    "    _, z = ae.encode(x_, mask_\n",
    "                  )\n",
    "\n",
    "    return z"
   ]
  },
  {
   "cell_type": "code",
   "execution_count": 56,
   "metadata": {},
   "outputs": [
    {
     "data": {
      "text/plain": [
       "tensor([[-1.0000,  0.9999, -1.0000, -1.0000,  1.0000]],\n",
       "       grad_fn=<TanhBackward0>)"
      ]
     },
     "execution_count": 56,
     "metadata": {},
     "output_type": "execute_result"
    }
   ],
   "source": [
    "predict(50)"
   ]
  },
  {
   "cell_type": "code",
   "execution_count": null,
   "metadata": {},
   "outputs": [],
   "source": []
  }
 ],
 "metadata": {
  "kernelspec": {
   "display_name": "macroalloc_env",
   "language": "python",
   "name": "python3"
  },
  "language_info": {
   "codemirror_mode": {
    "name": "ipython",
    "version": 3
   },
   "file_extension": ".py",
   "mimetype": "text/x-python",
   "name": "python",
   "nbconvert_exporter": "python",
   "pygments_lexer": "ipython3",
   "version": "3.10.11"
  },
  "orig_nbformat": 4
 },
 "nbformat": 4,
 "nbformat_minor": 2
}
