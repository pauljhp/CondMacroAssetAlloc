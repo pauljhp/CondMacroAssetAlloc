{
 "cells": [
  {
   "cell_type": "markdown",
   "metadata": {},
   "source": [
    "# train models"
   ]
  },
  {
   "attachments": {},
   "cell_type": "markdown",
   "metadata": {},
   "source": [
    "## 1. Train deep learning model"
   ]
  },
  {
   "attachments": {},
   "cell_type": "markdown",
   "metadata": {},
   "source": [
    "### 1.1 Load & process data"
   ]
  },
  {
   "cell_type": "code",
   "execution_count": 97,
   "metadata": {},
   "outputs": [
    {
     "name": "stderr",
     "output_type": "stream",
     "text": [
      "/Users/paulp/Projects/CondMacroAssetAlloc/src/macroEncoding/utils/__init__.py:37: RuntimeWarning:\n",
      "\n",
      "divide by zero encountered in divide\n",
      "\n",
      "/Users/paulp/Projects/CondMacroAssetAlloc/src/macroEncoding/utils/__init__.py:37: RuntimeWarning:\n",
      "\n",
      "divide by zero encountered in log\n",
      "\n",
      "/Users/paulp/Projects/CondMacroAssetAlloc/src/macroEncoding/utils/__init__.py:37: RuntimeWarning:\n",
      "\n",
      "invalid value encountered in log\n",
      "\n",
      "/Users/paulp/Projects/CondMacroAssetAlloc/src/macroEncoding/utils/__init__.py:37: RuntimeWarning:\n",
      "\n",
      "divide by zero encountered in divide\n",
      "\n",
      "/Users/paulp/Projects/CondMacroAssetAlloc/src/macroEncoding/utils/__init__.py:37: RuntimeWarning:\n",
      "\n",
      "divide by zero encountered in log\n",
      "\n",
      "/Users/paulp/Projects/CondMacroAssetAlloc/src/macroEncoding/utils/__init__.py:37: RuntimeWarning:\n",
      "\n",
      "invalid value encountered in log\n",
      "\n",
      "/Users/paulp/Projects/CondMacroAssetAlloc/src/macroEncoding/utils/__init__.py:37: RuntimeWarning:\n",
      "\n",
      "invalid value encountered in log\n",
      "\n",
      "/Users/paulp/Projects/CondMacroAssetAlloc/src/macroEncoding/utils/__init__.py:37: RuntimeWarning:\n",
      "\n",
      "divide by zero encountered in divide\n",
      "\n",
      "/Users/paulp/Projects/CondMacroAssetAlloc/src/macroEncoding/utils/__init__.py:37: RuntimeWarning:\n",
      "\n",
      "invalid value encountered in divide\n",
      "\n",
      "/Users/paulp/Projects/CondMacroAssetAlloc/src/macroEncoding/utils/__init__.py:37: RuntimeWarning:\n",
      "\n",
      "divide by zero encountered in log\n",
      "\n",
      "/Users/paulp/Projects/CondMacroAssetAlloc/src/macroEncoding/utils/__init__.py:37: RuntimeWarning:\n",
      "\n",
      "invalid value encountered in log\n",
      "\n"
     ]
    }
   ],
   "source": [
    "from deepLearning.dataloader import MacroData\n",
    "from torch.utils.data import DataLoader\n",
    "import torch\n",
    "import pandas as pd\n",
    "import utils\n",
    "import numpy as np\n",
    "\n",
    "\n",
    "na_thresh = 500\n",
    "df = pd.read_pickle(\"../../data/macro/consolidated_macro_data.pkl\")\n",
    "df = df.dropna(thresh=na_thresh, axis=1).dropna(axis=0)\n",
    "df = df.T.drop_duplicates().T\n",
    "processor = utils.PreProcessor(df)\n",
    "WINDOW_SIZE = 8 * 12\n",
    "\n",
    "md = MacroData(WINDOW_SIZE, processor.train, pad_val=-1e10)\n",
    "DEVICE = torch.device(\"cpu\")\n",
    "DTYPE = torch.float32\n",
    "def collate_fn(input, device=DEVICE, dtype=DTYPE):\n",
    "    \"\"\"collate inputs batch first\"\"\"\n",
    "    idxs, data_ls, paddings = [], [], []\n",
    "    for idx, data, padding_mask in input:\n",
    "        idxs.append(idx)\n",
    "        data_ls.append(data)\n",
    "        paddings.append(padding_mask)\n",
    "    return (\n",
    "        idxs,\n",
    "        torch.tensor(np.array(data_ls), dtype=dtype).to(device),\n",
    "        torch.tensor(paddings, dtype=torch.bool).to(device)\n",
    "    )\n",
    "dataloader = DataLoader(md, batch_size=32, collate_fn=collate_fn)"
   ]
  },
  {
   "cell_type": "code",
   "execution_count": 2,
   "metadata": {},
   "outputs": [],
   "source": [
    "import torch.nn as nn\n",
    "from typing import Tuple\n",
    "\n",
    "\n",
    "class AutoEncoder(nn.Module):\n",
    "    def __init__(self, \n",
    "                 window_size: int=60,\n",
    "                 num_transformer_layers: int=3,\n",
    "                 nhead: int=10,\n",
    "                 dim: int=60,\n",
    "                 encoding_dims: int=5):\n",
    "        super().__init__()\n",
    "        self.window_size = window_size\n",
    "        self.dim = dim\n",
    "        encoder_layer = nn.TransformerEncoderLayer(d_model=dim, nhead=nhead, batch_first=True)\n",
    "        decoder_layer = nn.TransformerDecoderLayer(d_model=dim, nhead=nhead, batch_first=True)\n",
    "        self.transformer_encoder = nn.TransformerEncoder(encoder_layer=encoder_layer, num_layers=num_transformer_layers)\n",
    "        self.linear_encoder = nn.Sequential(\n",
    "            nn.Conv1d(in_channels=dim, out_channels=dim, kernel_size=3),\n",
    "            nn.Flatten(1, -1),\n",
    "            nn.LayerNorm(num_features=dim * window_size),\n",
    "            nn.Linear(dim * window_size, dim * window_size // 4),\n",
    "            nn.Linear(dim * window_size // 4, dim * window_size // 4 ** 2),\n",
    "            nn.Linear(dim * window_size // 4 ** 2, dim * window_size // 4 ** 3),\n",
    "            nn.Linear(dim * window_size // 4 ** 3, encoding_dims)\n",
    "        )\n",
    "        self.linear_decoder = nn.Sequential(\n",
    "            nn.Linear(encoding_dims, dim * window_size // 4 ** 3),\n",
    "            nn.Linear(dim * window_size // 4 ** 3, dim * window_size // 4 ** 2),\n",
    "            nn.Linear(dim * window_size // 4 ** 2, dim * window_size // 4),\n",
    "            nn.Linear(dim * window_size // 4, dim * window_size),\n",
    "            nn.LayerNorm(num_features=dim * window_size),\n",
    "            nn.Unflatten(-1, (self.window_size, self.dim)),\n",
    "            nn.Conv1d(in_channels=dim, out_channels=dim)\n",
    "        )\n",
    "        self.transformer_decoder = nn.TransformerDecoder(decoder_layer=decoder_layer, num_layers=num_transformer_layers)\n",
    "        self.tanh = nn.Tanh()\n",
    "\n",
    "    def encode(self, x: torch.tensor, padding_mask: torch.tensor) -> Tuple[torch.tensor]:\n",
    "        x_ = self.transformer_encoder(x, src_key_padding_mask=padding_mask)\n",
    "        # x_ = torch.flatten(x_, 1, 2)\n",
    "        z = self.linear_encoder(x_)\n",
    "        z = self.tanh(z)\n",
    "        return x_, z\n",
    "    \n",
    "    def decode(self, z: torch.tensor, memory: torch.tensor) -> torch.tensor:\n",
    "        y_ = self.linear_decoder(z)\n",
    "        y = self.transformer_decoder(y_, memory=memory)\n",
    "        return y\n",
    "\n",
    "    def forward(self, x, padding_mask: torch.tensor) -> torch.tensor:\n",
    "        x_, z = self.encode(x, padding_mask=padding_mask)\n",
    "        y_ = self.decode(z, x_)\n",
    "        return y_\n",
    "    \n",
    "    def __call__(self, x, padding_mask) -> torch.tensor:\n",
    "        return self.forward(x, padding_mask)\n"
   ]
  },
  {
   "cell_type": "code",
   "execution_count": 98,
   "metadata": {},
   "outputs": [],
   "source": [
    "ae = AutoEncoder(\n",
    "    window_size=WINDOW_SIZE, \n",
    "    num_transformer_layers=10, \n",
    "    encoding_dims=5)"
   ]
  },
  {
   "cell_type": "code",
   "execution_count": null,
   "metadata": {},
   "outputs": [],
   "source": [
    "import torch\n",
    "from torch.optim import AdamW\n",
    "from torch.utils.data import DataLoader, TensorDataset\n",
    "from torch.utils.tensorboard import SummaryWriter\n",
    "\n",
    "\n",
    "def get_grads(model: nn.Module):\n",
    "    grads = {n:p.grad.cpu() for n, p in model.named_parameters()}\n",
    "    return grads\n",
    "\n",
    "lr = 1e-5\n",
    "device = torch.device('cuda' if torch.cuda.is_available() else 'cpu')\n",
    "\n",
    "num_epochs = 100\n",
    "criterion = nn.MSELoss()\n",
    "optimizer = AdamW(ae.parameters(), lr=lr, betas=(0.9, 0.99), eps=1e-4)\n",
    "\n",
    "Logger = SummaryWriter(log_dir=f\"./deepLearning/logs/lr={lr}\")\n",
    "\n",
    "for epoch in range(num_epochs):\n",
    "    for inputs in dataloader:\n",
    "        idx, x, padding_mask = inputs\n",
    "        x_ = x.to(device)\n",
    "        inverted_mask = (torch.tensor(1) - padding_mask.unsqueeze(-1).to(torch.int)) \n",
    "        x_ = inverted_mask * x_ # mask padding tokens to 0 for loss calculation\n",
    "        y = ae(x, padding_mask)\n",
    "        y_ = inverted_mask * y\n",
    "\n",
    "        loss = criterion(x_, y_)\n",
    "        optimizer.zero_grad()\n",
    "        loss.backward()\n",
    "\n",
    "        optimizer.step()\n",
    "\n",
    "    Logger.add_scalar(\"train/loss\", loss, global_step=epoch)\n",
    "    grads = get_grads(ae)\n",
    "    for grad_name, grad in grads.items():\n",
    "        Logger.add_histogram(f\"train/gradient/{grad_name}\", grad, global_step=epoch)\n",
    "\n",
    "    print(f\"Epoch [{epoch + 1}/{num_epochs}], Loss: {loss.item():.4f}\")"
   ]
  },
  {
   "cell_type": "code",
   "execution_count": 13,
   "metadata": {},
   "outputs": [],
   "source": [
    "_, z = ae.encode(x, padding_mask)"
   ]
  },
  {
   "cell_type": "code",
   "execution_count": 52,
   "metadata": {},
   "outputs": [],
   "source": [
    "def predict(indx: int):\n",
    "    _, x, mask = md[indx]\n",
    "    x_ = torch.tensor(x, dtype=DTYPE).unsqueeze(-1).permute((2, 0, 1))\n",
    "    mask_ = torch.tensor(mask, dtype=torch.bool).unsqueeze(-1).permute(1, 0)\n",
    "                                            \n",
    "    _, z = ae.encode(x_, mask_\n",
    "                  )\n",
    "\n",
    "    return z"
   ]
  },
  {
   "cell_type": "code",
   "execution_count": 76,
   "metadata": {},
   "outputs": [],
   "source": [
    "chart_data = [predict(i).squeeze(0).detach().numpy() for i in range(100)]\n",
    "chart_data = np.array(chart_data)\n"
   ]
  },
  {
   "cell_type": "code",
   "execution_count": 106,
   "metadata": {},
   "outputs": [
    {
     "data": {
      "application/vnd.plotly.v1+json": {
       "config": {
        "plotlyServerURL": "https://plot.ly"
       },
       "data": [
        {
         "hovertemplate": "x=%{x}<br>y=%{y}<br>z=%{z}<extra></extra>",
         "legendgroup": "",
         "marker": {
          "color": "#636efa",
          "symbol": "circle"
         },
         "mode": "markers",
         "name": "",
         "scene": "scene",
         "showlegend": false,
         "type": "scatter3d",
         "x": [
          -0.9423220753669739,
          -0.9630851745605469,
          -0.9716951847076416,
          -0.9839366674423218,
          -0.985457718372345,
          -0.987345814704895,
          -0.992438793182373,
          -0.9941200017929077,
          -0.99447101354599,
          -0.9963990449905396,
          -0.99628746509552,
          -0.9969263076782227,
          -0.9974595308303833,
          -0.9974256157875061,
          -0.9976690411567688,
          -0.9977836608886719,
          -0.9978840947151184,
          -0.9973449110984802,
          -0.997639000415802,
          -0.9969985485076904,
          -0.9971539378166199,
          -0.9963524341583252,
          -0.9960949420928955,
          -0.9941076040267944,
          -0.9938844442367554,
          -0.9934741258621216,
          -0.9881227612495422,
          -0.9874942302703857,
          -0.9818103909492493,
          -0.9759700298309326,
          -0.9711233973503113,
          -0.9658054113388062,
          -0.9491503238677979,
          -0.9276782870292664,
          -0.8746419548988342,
          -0.850793719291687,
          -0.785607099533081,
          -0.6418737769126892,
          -0.4829562306404114,
          -0.3519655466079712,
          -0.22928428649902344,
          -0.04606708511710167,
          0.09367159754037857,
          0.14247973263263702,
          0.22423414885997772,
          0.23927153646945953,
          0.3966276943683624,
          0.571406364440918,
          0.7029589414596558,
          0.7358397245407104,
          0.8600030541419983,
          0.9035763740539551,
          0.8877846598625183,
          0.9161736965179443,
          0.9221862554550171,
          0.9511386752128601,
          0.9704657196998596,
          0.9773673415184021,
          0.977792501449585,
          0.9840734601020813,
          0.9881712198257446,
          0.9886815547943115,
          0.9909484386444092,
          0.9926548004150391,
          0.9940288066864014,
          0.995377242565155,
          0.9956282377243042,
          0.9966947436332703,
          0.9968460202217102,
          0.9975463151931763,
          0.9973703622817993,
          0.9977127313613892,
          0.9973489046096802,
          0.997857928276062,
          0.9982972145080566,
          0.9986109733581543,
          0.9983916878700256,
          0.9984028339385986,
          0.9980459809303284,
          0.9984084963798523,
          0.9988652467727661,
          0.9991248846054077,
          0.9990214705467224,
          0.9991217851638794,
          0.9992449879646301,
          0.999272882938385,
          0.9991481900215149,
          0.9991490244865417,
          0.9987838268280029,
          0.9988218545913696,
          0.99921715259552,
          0.9988069534301758,
          0.9990378618240356,
          0.9986334443092346,
          0.998145580291748,
          0.9968884587287903,
          0.9958382248878479,
          0.9939385056495667,
          0.9952457547187805,
          0.9955724477767944
         ],
         "y": [
          0.12691959738731384,
          -0.10229362547397614,
          -0.27420881390571594,
          -0.4132637083530426,
          -0.6068572998046875,
          -0.6532989740371704,
          -0.7469446063041687,
          -0.825661838054657,
          -0.8680444359779358,
          -0.9129622578620911,
          -0.9313174486160278,
          -0.950402557849884,
          -0.9616252779960632,
          -0.9711498618125916,
          -0.9786470532417297,
          -0.9852503538131714,
          -0.9902705550193787,
          -0.991058886051178,
          -0.990480899810791,
          -0.9932149052619934,
          -0.9942381381988525,
          -0.9953256249427795,
          -0.995209813117981,
          -0.9954235553741455,
          -0.9961070418357849,
          -0.9958970546722412,
          -0.9944709539413452,
          -0.9943606853485107,
          -0.9935244917869568,
          -0.9922821521759033,
          -0.9918431639671326,
          -0.9882936477661133,
          -0.9880874156951904,
          -0.9832459688186646,
          -0.9736628532409668,
          -0.9702082276344299,
          -0.9561229348182678,
          -0.9304862022399902,
          -0.9150515198707581,
          -0.8969687223434448,
          -0.8737826347351074,
          -0.8027021288871765,
          -0.7279803156852722,
          -0.7675260305404663,
          -0.6851142048835754,
          -0.7116395831108093,
          -0.6640723943710327,
          -0.5367329120635986,
          -0.3792603611946106,
          -0.3777327239513397,
          -0.0785985141992569,
          0.05860380828380585,
          -0.0011663431068882346,
          0.2040574848651886,
          0.23331721127033234,
          0.4571327567100525,
          0.6364037394523621,
          0.7353509068489075,
          0.772229790687561,
          0.8661267161369324,
          0.9012311697006226,
          0.8911443948745728,
          0.9282252788543701,
          0.9394638538360596,
          0.9557062387466431,
          0.9713543057441711,
          0.9724493622779846,
          0.9851331114768982,
          0.9881908297538757,
          0.9895086884498596,
          0.990669310092926,
          0.9939388036727905,
          0.9924691319465637,
          0.9940806031227112,
          0.9949958324432373,
          0.9966952204704285,
          0.9968639016151428,
          0.9973223209381104,
          0.9974748492240906,
          0.9976643919944763,
          0.9981763362884521,
          0.9987643957138062,
          0.9985169768333435,
          0.9987184405326843,
          0.9990271925926208,
          0.9991883039474487,
          0.9991600513458252,
          0.9992989897727966,
          0.9993632435798645,
          0.9993228316307068,
          0.9994484186172485,
          0.9993227124214172,
          0.9993931651115417,
          0.999302864074707,
          0.9989228844642639,
          0.9988852739334106,
          0.9988855719566345,
          0.998464822769165,
          0.9988648295402527,
          0.9986572861671448
         ],
         "z": [
          0.9963265657424927,
          0.9934873580932617,
          0.9886614084243774,
          0.9860387444496155,
          0.9720838069915771,
          0.9537791013717651,
          0.9239693284034729,
          0.8562662601470947,
          0.7414980530738831,
          0.6078883409500122,
          0.30266937613487244,
          -0.17164203524589539,
          -0.18270455300807953,
          -0.544808030128479,
          -0.7250049710273743,
          -0.8873127102851868,
          -0.9539135694503784,
          -0.9696102142333984,
          -0.9771148562431335,
          -0.9891476631164551,
          -0.9950734972953796,
          -0.9982719421386719,
          -0.9986055493354797,
          -0.999328076839447,
          -0.9996481537818909,
          -0.9997724890708923,
          -0.9998133778572083,
          -0.999861478805542,
          -0.9998847842216492,
          -0.9999073147773743,
          -0.9999067187309265,
          -0.999927282333374,
          -0.9999498724937439,
          -0.9999545812606812,
          -0.9999478459358215,
          -0.9999420046806335,
          -0.9999409914016724,
          -0.9999285340309143,
          -0.9999265074729919,
          -0.9999046921730042,
          -0.9999020099639893,
          -0.9998542070388794,
          -0.9998199939727783,
          -0.9998196363449097,
          -0.9998113512992859,
          -0.9998086094856262,
          -0.9997591972351074,
          -0.9997357726097107,
          -0.9995306134223938,
          -0.9996120929718018,
          -0.9993481040000916,
          -0.9989436864852905,
          -0.9989434480667114,
          -0.9985699653625488,
          -0.997774064540863,
          -0.996974766254425,
          -0.9964123964309692,
          -0.9923356771469116,
          -0.9913302659988403,
          -0.9775565266609192,
          -0.9760468006134033,
          -0.9743492007255554,
          -0.9541798233985901,
          -0.9134895205497742,
          -0.8981328010559082,
          -0.7991745471954346,
          -0.7222495079040527,
          -0.4149485230445862,
          -0.14724946022033691,
          0.10630572587251663,
          0.37999069690704346,
          0.4878791272640228,
          0.5769584774971008,
          0.6797385811805725,
          0.8161924481391907,
          0.8935943841934204,
          0.9392749071121216,
          0.9493224024772644,
          0.9734889268875122,
          0.9759803414344788,
          0.9827349185943604,
          0.9857885241508484,
          0.9853106141090393,
          0.9906788468360901,
          0.9937968850135803,
          0.9958270192146301,
          0.9963293671607971,
          0.9977625012397766,
          0.9987771511077881,
          0.9991938471794128,
          0.9992771744728088,
          0.9995628595352173,
          0.9997346997261047,
          0.999669075012207,
          0.9998040795326233,
          0.9998820424079895,
          0.9999469518661499,
          0.9999354481697083,
          0.999940037727356,
          0.9999493360519409
         ]
        }
       ],
       "layout": {
        "legend": {
         "tracegroupgap": 0
        },
        "margin": {
         "t": 60
        },
        "scene": {
         "domain": {
          "x": [
           0,
           1
          ],
          "y": [
           0,
           1
          ]
         },
         "xaxis": {
          "title": {
           "text": "x"
          }
         },
         "yaxis": {
          "title": {
           "text": "y"
          }
         },
         "zaxis": {
          "title": {
           "text": "z"
          }
         }
        },
        "template": {
         "data": {
          "bar": [
           {
            "error_x": {
             "color": "#2a3f5f"
            },
            "error_y": {
             "color": "#2a3f5f"
            },
            "marker": {
             "line": {
              "color": "#E5ECF6",
              "width": 0.5
             },
             "pattern": {
              "fillmode": "overlay",
              "size": 10,
              "solidity": 0.2
             }
            },
            "type": "bar"
           }
          ],
          "barpolar": [
           {
            "marker": {
             "line": {
              "color": "#E5ECF6",
              "width": 0.5
             },
             "pattern": {
              "fillmode": "overlay",
              "size": 10,
              "solidity": 0.2
             }
            },
            "type": "barpolar"
           }
          ],
          "carpet": [
           {
            "aaxis": {
             "endlinecolor": "#2a3f5f",
             "gridcolor": "white",
             "linecolor": "white",
             "minorgridcolor": "white",
             "startlinecolor": "#2a3f5f"
            },
            "baxis": {
             "endlinecolor": "#2a3f5f",
             "gridcolor": "white",
             "linecolor": "white",
             "minorgridcolor": "white",
             "startlinecolor": "#2a3f5f"
            },
            "type": "carpet"
           }
          ],
          "choropleth": [
           {
            "colorbar": {
             "outlinewidth": 0,
             "ticks": ""
            },
            "type": "choropleth"
           }
          ],
          "contour": [
           {
            "colorbar": {
             "outlinewidth": 0,
             "ticks": ""
            },
            "colorscale": [
             [
              0,
              "#0d0887"
             ],
             [
              0.1111111111111111,
              "#46039f"
             ],
             [
              0.2222222222222222,
              "#7201a8"
             ],
             [
              0.3333333333333333,
              "#9c179e"
             ],
             [
              0.4444444444444444,
              "#bd3786"
             ],
             [
              0.5555555555555556,
              "#d8576b"
             ],
             [
              0.6666666666666666,
              "#ed7953"
             ],
             [
              0.7777777777777778,
              "#fb9f3a"
             ],
             [
              0.8888888888888888,
              "#fdca26"
             ],
             [
              1,
              "#f0f921"
             ]
            ],
            "type": "contour"
           }
          ],
          "contourcarpet": [
           {
            "colorbar": {
             "outlinewidth": 0,
             "ticks": ""
            },
            "type": "contourcarpet"
           }
          ],
          "heatmap": [
           {
            "colorbar": {
             "outlinewidth": 0,
             "ticks": ""
            },
            "colorscale": [
             [
              0,
              "#0d0887"
             ],
             [
              0.1111111111111111,
              "#46039f"
             ],
             [
              0.2222222222222222,
              "#7201a8"
             ],
             [
              0.3333333333333333,
              "#9c179e"
             ],
             [
              0.4444444444444444,
              "#bd3786"
             ],
             [
              0.5555555555555556,
              "#d8576b"
             ],
             [
              0.6666666666666666,
              "#ed7953"
             ],
             [
              0.7777777777777778,
              "#fb9f3a"
             ],
             [
              0.8888888888888888,
              "#fdca26"
             ],
             [
              1,
              "#f0f921"
             ]
            ],
            "type": "heatmap"
           }
          ],
          "heatmapgl": [
           {
            "colorbar": {
             "outlinewidth": 0,
             "ticks": ""
            },
            "colorscale": [
             [
              0,
              "#0d0887"
             ],
             [
              0.1111111111111111,
              "#46039f"
             ],
             [
              0.2222222222222222,
              "#7201a8"
             ],
             [
              0.3333333333333333,
              "#9c179e"
             ],
             [
              0.4444444444444444,
              "#bd3786"
             ],
             [
              0.5555555555555556,
              "#d8576b"
             ],
             [
              0.6666666666666666,
              "#ed7953"
             ],
             [
              0.7777777777777778,
              "#fb9f3a"
             ],
             [
              0.8888888888888888,
              "#fdca26"
             ],
             [
              1,
              "#f0f921"
             ]
            ],
            "type": "heatmapgl"
           }
          ],
          "histogram": [
           {
            "marker": {
             "pattern": {
              "fillmode": "overlay",
              "size": 10,
              "solidity": 0.2
             }
            },
            "type": "histogram"
           }
          ],
          "histogram2d": [
           {
            "colorbar": {
             "outlinewidth": 0,
             "ticks": ""
            },
            "colorscale": [
             [
              0,
              "#0d0887"
             ],
             [
              0.1111111111111111,
              "#46039f"
             ],
             [
              0.2222222222222222,
              "#7201a8"
             ],
             [
              0.3333333333333333,
              "#9c179e"
             ],
             [
              0.4444444444444444,
              "#bd3786"
             ],
             [
              0.5555555555555556,
              "#d8576b"
             ],
             [
              0.6666666666666666,
              "#ed7953"
             ],
             [
              0.7777777777777778,
              "#fb9f3a"
             ],
             [
              0.8888888888888888,
              "#fdca26"
             ],
             [
              1,
              "#f0f921"
             ]
            ],
            "type": "histogram2d"
           }
          ],
          "histogram2dcontour": [
           {
            "colorbar": {
             "outlinewidth": 0,
             "ticks": ""
            },
            "colorscale": [
             [
              0,
              "#0d0887"
             ],
             [
              0.1111111111111111,
              "#46039f"
             ],
             [
              0.2222222222222222,
              "#7201a8"
             ],
             [
              0.3333333333333333,
              "#9c179e"
             ],
             [
              0.4444444444444444,
              "#bd3786"
             ],
             [
              0.5555555555555556,
              "#d8576b"
             ],
             [
              0.6666666666666666,
              "#ed7953"
             ],
             [
              0.7777777777777778,
              "#fb9f3a"
             ],
             [
              0.8888888888888888,
              "#fdca26"
             ],
             [
              1,
              "#f0f921"
             ]
            ],
            "type": "histogram2dcontour"
           }
          ],
          "mesh3d": [
           {
            "colorbar": {
             "outlinewidth": 0,
             "ticks": ""
            },
            "type": "mesh3d"
           }
          ],
          "parcoords": [
           {
            "line": {
             "colorbar": {
              "outlinewidth": 0,
              "ticks": ""
             }
            },
            "type": "parcoords"
           }
          ],
          "pie": [
           {
            "automargin": true,
            "type": "pie"
           }
          ],
          "scatter": [
           {
            "fillpattern": {
             "fillmode": "overlay",
             "size": 10,
             "solidity": 0.2
            },
            "type": "scatter"
           }
          ],
          "scatter3d": [
           {
            "line": {
             "colorbar": {
              "outlinewidth": 0,
              "ticks": ""
             }
            },
            "marker": {
             "colorbar": {
              "outlinewidth": 0,
              "ticks": ""
             }
            },
            "type": "scatter3d"
           }
          ],
          "scattercarpet": [
           {
            "marker": {
             "colorbar": {
              "outlinewidth": 0,
              "ticks": ""
             }
            },
            "type": "scattercarpet"
           }
          ],
          "scattergeo": [
           {
            "marker": {
             "colorbar": {
              "outlinewidth": 0,
              "ticks": ""
             }
            },
            "type": "scattergeo"
           }
          ],
          "scattergl": [
           {
            "marker": {
             "colorbar": {
              "outlinewidth": 0,
              "ticks": ""
             }
            },
            "type": "scattergl"
           }
          ],
          "scattermapbox": [
           {
            "marker": {
             "colorbar": {
              "outlinewidth": 0,
              "ticks": ""
             }
            },
            "type": "scattermapbox"
           }
          ],
          "scatterpolar": [
           {
            "marker": {
             "colorbar": {
              "outlinewidth": 0,
              "ticks": ""
             }
            },
            "type": "scatterpolar"
           }
          ],
          "scatterpolargl": [
           {
            "marker": {
             "colorbar": {
              "outlinewidth": 0,
              "ticks": ""
             }
            },
            "type": "scatterpolargl"
           }
          ],
          "scatterternary": [
           {
            "marker": {
             "colorbar": {
              "outlinewidth": 0,
              "ticks": ""
             }
            },
            "type": "scatterternary"
           }
          ],
          "surface": [
           {
            "colorbar": {
             "outlinewidth": 0,
             "ticks": ""
            },
            "colorscale": [
             [
              0,
              "#0d0887"
             ],
             [
              0.1111111111111111,
              "#46039f"
             ],
             [
              0.2222222222222222,
              "#7201a8"
             ],
             [
              0.3333333333333333,
              "#9c179e"
             ],
             [
              0.4444444444444444,
              "#bd3786"
             ],
             [
              0.5555555555555556,
              "#d8576b"
             ],
             [
              0.6666666666666666,
              "#ed7953"
             ],
             [
              0.7777777777777778,
              "#fb9f3a"
             ],
             [
              0.8888888888888888,
              "#fdca26"
             ],
             [
              1,
              "#f0f921"
             ]
            ],
            "type": "surface"
           }
          ],
          "table": [
           {
            "cells": {
             "fill": {
              "color": "#EBF0F8"
             },
             "line": {
              "color": "white"
             }
            },
            "header": {
             "fill": {
              "color": "#C8D4E3"
             },
             "line": {
              "color": "white"
             }
            },
            "type": "table"
           }
          ]
         },
         "layout": {
          "annotationdefaults": {
           "arrowcolor": "#2a3f5f",
           "arrowhead": 0,
           "arrowwidth": 1
          },
          "autotypenumbers": "strict",
          "coloraxis": {
           "colorbar": {
            "outlinewidth": 0,
            "ticks": ""
           }
          },
          "colorscale": {
           "diverging": [
            [
             0,
             "#8e0152"
            ],
            [
             0.1,
             "#c51b7d"
            ],
            [
             0.2,
             "#de77ae"
            ],
            [
             0.3,
             "#f1b6da"
            ],
            [
             0.4,
             "#fde0ef"
            ],
            [
             0.5,
             "#f7f7f7"
            ],
            [
             0.6,
             "#e6f5d0"
            ],
            [
             0.7,
             "#b8e186"
            ],
            [
             0.8,
             "#7fbc41"
            ],
            [
             0.9,
             "#4d9221"
            ],
            [
             1,
             "#276419"
            ]
           ],
           "sequential": [
            [
             0,
             "#0d0887"
            ],
            [
             0.1111111111111111,
             "#46039f"
            ],
            [
             0.2222222222222222,
             "#7201a8"
            ],
            [
             0.3333333333333333,
             "#9c179e"
            ],
            [
             0.4444444444444444,
             "#bd3786"
            ],
            [
             0.5555555555555556,
             "#d8576b"
            ],
            [
             0.6666666666666666,
             "#ed7953"
            ],
            [
             0.7777777777777778,
             "#fb9f3a"
            ],
            [
             0.8888888888888888,
             "#fdca26"
            ],
            [
             1,
             "#f0f921"
            ]
           ],
           "sequentialminus": [
            [
             0,
             "#0d0887"
            ],
            [
             0.1111111111111111,
             "#46039f"
            ],
            [
             0.2222222222222222,
             "#7201a8"
            ],
            [
             0.3333333333333333,
             "#9c179e"
            ],
            [
             0.4444444444444444,
             "#bd3786"
            ],
            [
             0.5555555555555556,
             "#d8576b"
            ],
            [
             0.6666666666666666,
             "#ed7953"
            ],
            [
             0.7777777777777778,
             "#fb9f3a"
            ],
            [
             0.8888888888888888,
             "#fdca26"
            ],
            [
             1,
             "#f0f921"
            ]
           ]
          },
          "colorway": [
           "#636efa",
           "#EF553B",
           "#00cc96",
           "#ab63fa",
           "#FFA15A",
           "#19d3f3",
           "#FF6692",
           "#B6E880",
           "#FF97FF",
           "#FECB52"
          ],
          "font": {
           "color": "#2a3f5f"
          },
          "geo": {
           "bgcolor": "white",
           "lakecolor": "white",
           "landcolor": "#E5ECF6",
           "showlakes": true,
           "showland": true,
           "subunitcolor": "white"
          },
          "hoverlabel": {
           "align": "left"
          },
          "hovermode": "closest",
          "mapbox": {
           "style": "light"
          },
          "paper_bgcolor": "white",
          "plot_bgcolor": "#E5ECF6",
          "polar": {
           "angularaxis": {
            "gridcolor": "white",
            "linecolor": "white",
            "ticks": ""
           },
           "bgcolor": "#E5ECF6",
           "radialaxis": {
            "gridcolor": "white",
            "linecolor": "white",
            "ticks": ""
           }
          },
          "scene": {
           "xaxis": {
            "backgroundcolor": "#E5ECF6",
            "gridcolor": "white",
            "gridwidth": 2,
            "linecolor": "white",
            "showbackground": true,
            "ticks": "",
            "zerolinecolor": "white"
           },
           "yaxis": {
            "backgroundcolor": "#E5ECF6",
            "gridcolor": "white",
            "gridwidth": 2,
            "linecolor": "white",
            "showbackground": true,
            "ticks": "",
            "zerolinecolor": "white"
           },
           "zaxis": {
            "backgroundcolor": "#E5ECF6",
            "gridcolor": "white",
            "gridwidth": 2,
            "linecolor": "white",
            "showbackground": true,
            "ticks": "",
            "zerolinecolor": "white"
           }
          },
          "shapedefaults": {
           "line": {
            "color": "#2a3f5f"
           }
          },
          "ternary": {
           "aaxis": {
            "gridcolor": "white",
            "linecolor": "white",
            "ticks": ""
           },
           "baxis": {
            "gridcolor": "white",
            "linecolor": "white",
            "ticks": ""
           },
           "bgcolor": "#E5ECF6",
           "caxis": {
            "gridcolor": "white",
            "linecolor": "white",
            "ticks": ""
           }
          },
          "title": {
           "x": 0.05
          },
          "xaxis": {
           "automargin": true,
           "gridcolor": "white",
           "linecolor": "white",
           "ticks": "",
           "title": {
            "standoff": 15
           },
           "zerolinecolor": "white",
           "zerolinewidth": 2
          },
          "yaxis": {
           "automargin": true,
           "gridcolor": "white",
           "linecolor": "white",
           "ticks": "",
           "title": {
            "standoff": 15
           },
           "zerolinecolor": "white",
           "zerolinewidth": 2
          }
         }
        }
       }
      }
     },
     "metadata": {},
     "output_type": "display_data"
    }
   ],
   "source": [
    "import plotly.express as px\n",
    "px.scatter_3d(\n",
    "    x=chart_data[:, 3], \n",
    "    y=chart_data[:, 4], \n",
    "    z=chart_data[:, 2])"
   ]
  },
  {
   "cell_type": "code",
   "execution_count": null,
   "metadata": {},
   "outputs": [],
   "source": []
  }
 ],
 "metadata": {
  "kernelspec": {
   "display_name": "macroalloc_env",
   "language": "python",
   "name": "python3"
  },
  "language_info": {
   "codemirror_mode": {
    "name": "ipython",
    "version": 3
   },
   "file_extension": ".py",
   "mimetype": "text/x-python",
   "name": "python",
   "nbconvert_exporter": "python",
   "pygments_lexer": "ipython3",
   "version": "3.10.11"
  },
  "orig_nbformat": 4
 },
 "nbformat": 4,
 "nbformat_minor": 2
}
